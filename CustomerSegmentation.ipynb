{
  "nbformat": 4,
  "nbformat_minor": 0,
  "metadata": {
    "colab": {
      "provenance": []
    },
    "kernelspec": {
      "name": "ir",
      "display_name": "R"
    },
    "language_info": {
      "name": "R"
    }
  },
  "cells": [
    {
      "cell_type": "markdown",
      "source": [
        "Customer Segmentation"
      ],
      "metadata": {
        "id": "tGJHrr0kl8vq"
      }
    },
    {
      "cell_type": "code",
      "execution_count": 18,
      "metadata": {
        "colab": {
          "base_uri": "https://localhost:8080/",
          "height": 1000
        },
        "id": "uoviv63Mlp0P",
        "outputId": "439128cf-67b2-4598-dcfd-4d8eac646f60"
      },
      "outputs": [
        {
          "output_type": "display_data",
          "data": {
            "text/html": [
              "<table class=\"dataframe\">\n",
              "<caption>A data.frame: 50 × 4</caption>\n",
              "<thead>\n",
              "\t<tr><th scope=col>Jenis.Kelamin</th><th scope=col>Umur</th><th scope=col>Profesi</th><th scope=col>Tipe.Residen</th></tr>\n",
              "\t<tr><th scope=col>&lt;chr&gt;</th><th scope=col>&lt;int&gt;</th><th scope=col>&lt;chr&gt;</th><th scope=col>&lt;chr&gt;</th></tr>\n",
              "</thead>\n",
              "<tbody>\n",
              "\t<tr><td>Pria  </td><td>58</td><td>Wiraswasta      </td><td>Sector </td></tr>\n",
              "\t<tr><td>Wanita</td><td>14</td><td>Pelajar         </td><td>Cluster</td></tr>\n",
              "\t<tr><td>Pria  </td><td>48</td><td>Professional    </td><td>Cluster</td></tr>\n",
              "\t<tr><td>Pria  </td><td>53</td><td>Professional    </td><td>Cluster</td></tr>\n",
              "\t<tr><td>Wanita</td><td>41</td><td>Wiraswasta      </td><td>Cluster</td></tr>\n",
              "\t<tr><td>Wanita</td><td>24</td><td>Professional    </td><td>Cluster</td></tr>\n",
              "\t<tr><td>Pria  </td><td>64</td><td>Wiraswasta      </td><td>Sector </td></tr>\n",
              "\t<tr><td>Pria  </td><td>52</td><td>Professional    </td><td>Cluster</td></tr>\n",
              "\t<tr><td>Wanita</td><td>29</td><td>Professional    </td><td>Sector </td></tr>\n",
              "\t<tr><td>Pria  </td><td>33</td><td>Professional    </td><td>Cluster</td></tr>\n",
              "\t<tr><td>Wanita</td><td>50</td><td>Professional    </td><td>Sector </td></tr>\n",
              "\t<tr><td>Wanita</td><td>49</td><td>Professional    </td><td>Sector </td></tr>\n",
              "\t<tr><td>Wanita</td><td>64</td><td>Wiraswasta      </td><td>Cluster</td></tr>\n",
              "\t<tr><td>Pria  </td><td>60</td><td>Wiraswasta      </td><td>Cluster</td></tr>\n",
              "\t<tr><td>Wanita</td><td>20</td><td>Wiraswasta      </td><td>Cluster</td></tr>\n",
              "\t<tr><td>Pria  </td><td>35</td><td>Professional    </td><td>Cluster</td></tr>\n",
              "\t<tr><td>Wanita</td><td>32</td><td>Ibu Rumah Tangga</td><td>Cluster</td></tr>\n",
              "\t<tr><td>Wanita</td><td>63</td><td>Ibu Rumah Tangga</td><td>Cluster</td></tr>\n",
              "\t<tr><td>Wanita</td><td>32</td><td>Wiraswasta      </td><td>Cluster</td></tr>\n",
              "\t<tr><td>Wanita</td><td>16</td><td>Pelajar         </td><td>Sector </td></tr>\n",
              "\t<tr><td>Wanita</td><td>38</td><td>Wiraswasta      </td><td>Cluster</td></tr>\n",
              "\t<tr><td>Wanita</td><td>52</td><td>Professional    </td><td>Cluster</td></tr>\n",
              "\t<tr><td>Pria  </td><td>34</td><td>Professional    </td><td>Cluster</td></tr>\n",
              "\t<tr><td>Wanita</td><td>39</td><td>Wiraswasta      </td><td>Cluster</td></tr>\n",
              "\t<tr><td>Wanita</td><td>29</td><td>Wiraswasta      </td><td>Sector </td></tr>\n",
              "\t<tr><td>Wanita</td><td>55</td><td>Professional    </td><td>Cluster</td></tr>\n",
              "\t<tr><td>Wanita</td><td>35</td><td>Wiraswasta      </td><td>Cluster</td></tr>\n",
              "\t<tr><td>Wanita</td><td>40</td><td>Ibu Rumah Tangga</td><td>Cluster</td></tr>\n",
              "\t<tr><td>Wanita</td><td>56</td><td>Professional    </td><td>Cluster</td></tr>\n",
              "\t<tr><td>Wanita</td><td>46</td><td>Ibu Rumah Tangga</td><td>Sector </td></tr>\n",
              "\t<tr><td>Wanita</td><td>19</td><td>Mahasiswa       </td><td>Cluster</td></tr>\n",
              "\t<tr><td>Wanita</td><td>47</td><td>Wiraswasta      </td><td>Sector </td></tr>\n",
              "\t<tr><td>Wanita</td><td>19</td><td>Mahasiswa       </td><td>Cluster</td></tr>\n",
              "\t<tr><td>Wanita</td><td>21</td><td>Wiraswasta      </td><td>Sector </td></tr>\n",
              "\t<tr><td>Wanita</td><td>39</td><td>Professional    </td><td>Sector </td></tr>\n",
              "\t<tr><td>Wanita</td><td>30</td><td>Wiraswasta      </td><td>Cluster</td></tr>\n",
              "\t<tr><td>Wanita</td><td>25</td><td>Professional    </td><td>Sector </td></tr>\n",
              "\t<tr><td>Wanita</td><td>46</td><td>Wiraswasta      </td><td>Sector </td></tr>\n",
              "\t<tr><td>Wanita</td><td>20</td><td>Professional    </td><td>Cluster</td></tr>\n",
              "\t<tr><td>Wanita</td><td>14</td><td>Pelajar         </td><td>Sector </td></tr>\n",
              "\t<tr><td>Wanita</td><td>24</td><td>Ibu Rumah Tangga</td><td>Cluster</td></tr>\n",
              "\t<tr><td>Wanita</td><td>26</td><td>Wiraswasta      </td><td>Cluster</td></tr>\n",
              "\t<tr><td>Wanita</td><td>31</td><td>Professional    </td><td>Cluster</td></tr>\n",
              "\t<tr><td>Wanita</td><td>18</td><td>Wiraswasta      </td><td>Cluster</td></tr>\n",
              "\t<tr><td>Wanita</td><td>22</td><td>Professional    </td><td>Cluster</td></tr>\n",
              "\t<tr><td>Wanita</td><td>25</td><td>Wiraswasta      </td><td>Sector </td></tr>\n",
              "\t<tr><td>Wanita</td><td>55</td><td>Ibu Rumah Tangga</td><td>Cluster</td></tr>\n",
              "\t<tr><td>Wanita</td><td>45</td><td>Wiraswasta      </td><td>Sector </td></tr>\n",
              "\t<tr><td>Wanita</td><td>33</td><td>Ibu Rumah Tangga</td><td>Sector </td></tr>\n",
              "\t<tr><td>Wanita</td><td>55</td><td>Wiraswasta      </td><td>Sector </td></tr>\n",
              "</tbody>\n",
              "</table>\n"
            ],
            "text/markdown": "\nA data.frame: 50 × 4\n\n| Jenis.Kelamin &lt;chr&gt; | Umur &lt;int&gt; | Profesi &lt;chr&gt; | Tipe.Residen &lt;chr&gt; |\n|---|---|---|---|\n| Pria   | 58 | Wiraswasta       | Sector  |\n| Wanita | 14 | Pelajar          | Cluster |\n| Pria   | 48 | Professional     | Cluster |\n| Pria   | 53 | Professional     | Cluster |\n| Wanita | 41 | Wiraswasta       | Cluster |\n| Wanita | 24 | Professional     | Cluster |\n| Pria   | 64 | Wiraswasta       | Sector  |\n| Pria   | 52 | Professional     | Cluster |\n| Wanita | 29 | Professional     | Sector  |\n| Pria   | 33 | Professional     | Cluster |\n| Wanita | 50 | Professional     | Sector  |\n| Wanita | 49 | Professional     | Sector  |\n| Wanita | 64 | Wiraswasta       | Cluster |\n| Pria   | 60 | Wiraswasta       | Cluster |\n| Wanita | 20 | Wiraswasta       | Cluster |\n| Pria   | 35 | Professional     | Cluster |\n| Wanita | 32 | Ibu Rumah Tangga | Cluster |\n| Wanita | 63 | Ibu Rumah Tangga | Cluster |\n| Wanita | 32 | Wiraswasta       | Cluster |\n| Wanita | 16 | Pelajar          | Sector  |\n| Wanita | 38 | Wiraswasta       | Cluster |\n| Wanita | 52 | Professional     | Cluster |\n| Pria   | 34 | Professional     | Cluster |\n| Wanita | 39 | Wiraswasta       | Cluster |\n| Wanita | 29 | Wiraswasta       | Sector  |\n| Wanita | 55 | Professional     | Cluster |\n| Wanita | 35 | Wiraswasta       | Cluster |\n| Wanita | 40 | Ibu Rumah Tangga | Cluster |\n| Wanita | 56 | Professional     | Cluster |\n| Wanita | 46 | Ibu Rumah Tangga | Sector  |\n| Wanita | 19 | Mahasiswa        | Cluster |\n| Wanita | 47 | Wiraswasta       | Sector  |\n| Wanita | 19 | Mahasiswa        | Cluster |\n| Wanita | 21 | Wiraswasta       | Sector  |\n| Wanita | 39 | Professional     | Sector  |\n| Wanita | 30 | Wiraswasta       | Cluster |\n| Wanita | 25 | Professional     | Sector  |\n| Wanita | 46 | Wiraswasta       | Sector  |\n| Wanita | 20 | Professional     | Cluster |\n| Wanita | 14 | Pelajar          | Sector  |\n| Wanita | 24 | Ibu Rumah Tangga | Cluster |\n| Wanita | 26 | Wiraswasta       | Cluster |\n| Wanita | 31 | Professional     | Cluster |\n| Wanita | 18 | Wiraswasta       | Cluster |\n| Wanita | 22 | Professional     | Cluster |\n| Wanita | 25 | Wiraswasta       | Sector  |\n| Wanita | 55 | Ibu Rumah Tangga | Cluster |\n| Wanita | 45 | Wiraswasta       | Sector  |\n| Wanita | 33 | Ibu Rumah Tangga | Sector  |\n| Wanita | 55 | Wiraswasta       | Sector  |\n\n",
            "text/latex": "A data.frame: 50 × 4\n\\begin{tabular}{llll}\n Jenis.Kelamin & Umur & Profesi & Tipe.Residen\\\\\n <chr> & <int> & <chr> & <chr>\\\\\n\\hline\n\t Pria   & 58 & Wiraswasta       & Sector \\\\\n\t Wanita & 14 & Pelajar          & Cluster\\\\\n\t Pria   & 48 & Professional     & Cluster\\\\\n\t Pria   & 53 & Professional     & Cluster\\\\\n\t Wanita & 41 & Wiraswasta       & Cluster\\\\\n\t Wanita & 24 & Professional     & Cluster\\\\\n\t Pria   & 64 & Wiraswasta       & Sector \\\\\n\t Pria   & 52 & Professional     & Cluster\\\\\n\t Wanita & 29 & Professional     & Sector \\\\\n\t Pria   & 33 & Professional     & Cluster\\\\\n\t Wanita & 50 & Professional     & Sector \\\\\n\t Wanita & 49 & Professional     & Sector \\\\\n\t Wanita & 64 & Wiraswasta       & Cluster\\\\\n\t Pria   & 60 & Wiraswasta       & Cluster\\\\\n\t Wanita & 20 & Wiraswasta       & Cluster\\\\\n\t Pria   & 35 & Professional     & Cluster\\\\\n\t Wanita & 32 & Ibu Rumah Tangga & Cluster\\\\\n\t Wanita & 63 & Ibu Rumah Tangga & Cluster\\\\\n\t Wanita & 32 & Wiraswasta       & Cluster\\\\\n\t Wanita & 16 & Pelajar          & Sector \\\\\n\t Wanita & 38 & Wiraswasta       & Cluster\\\\\n\t Wanita & 52 & Professional     & Cluster\\\\\n\t Pria   & 34 & Professional     & Cluster\\\\\n\t Wanita & 39 & Wiraswasta       & Cluster\\\\\n\t Wanita & 29 & Wiraswasta       & Sector \\\\\n\t Wanita & 55 & Professional     & Cluster\\\\\n\t Wanita & 35 & Wiraswasta       & Cluster\\\\\n\t Wanita & 40 & Ibu Rumah Tangga & Cluster\\\\\n\t Wanita & 56 & Professional     & Cluster\\\\\n\t Wanita & 46 & Ibu Rumah Tangga & Sector \\\\\n\t Wanita & 19 & Mahasiswa        & Cluster\\\\\n\t Wanita & 47 & Wiraswasta       & Sector \\\\\n\t Wanita & 19 & Mahasiswa        & Cluster\\\\\n\t Wanita & 21 & Wiraswasta       & Sector \\\\\n\t Wanita & 39 & Professional     & Sector \\\\\n\t Wanita & 30 & Wiraswasta       & Cluster\\\\\n\t Wanita & 25 & Professional     & Sector \\\\\n\t Wanita & 46 & Wiraswasta       & Sector \\\\\n\t Wanita & 20 & Professional     & Cluster\\\\\n\t Wanita & 14 & Pelajar          & Sector \\\\\n\t Wanita & 24 & Ibu Rumah Tangga & Cluster\\\\\n\t Wanita & 26 & Wiraswasta       & Cluster\\\\\n\t Wanita & 31 & Professional     & Cluster\\\\\n\t Wanita & 18 & Wiraswasta       & Cluster\\\\\n\t Wanita & 22 & Professional     & Cluster\\\\\n\t Wanita & 25 & Wiraswasta       & Sector \\\\\n\t Wanita & 55 & Ibu Rumah Tangga & Cluster\\\\\n\t Wanita & 45 & Wiraswasta       & Sector \\\\\n\t Wanita & 33 & Ibu Rumah Tangga & Sector \\\\\n\t Wanita & 55 & Wiraswasta       & Sector \\\\\n\\end{tabular}\n",
            "text/plain": [
              "   Jenis.Kelamin Umur Profesi          Tipe.Residen\n",
              "1  Pria          58   Wiraswasta       Sector      \n",
              "2  Wanita        14   Pelajar          Cluster     \n",
              "3  Pria          48   Professional     Cluster     \n",
              "4  Pria          53   Professional     Cluster     \n",
              "5  Wanita        41   Wiraswasta       Cluster     \n",
              "6  Wanita        24   Professional     Cluster     \n",
              "7  Pria          64   Wiraswasta       Sector      \n",
              "8  Pria          52   Professional     Cluster     \n",
              "9  Wanita        29   Professional     Sector      \n",
              "10 Pria          33   Professional     Cluster     \n",
              "11 Wanita        50   Professional     Sector      \n",
              "12 Wanita        49   Professional     Sector      \n",
              "13 Wanita        64   Wiraswasta       Cluster     \n",
              "14 Pria          60   Wiraswasta       Cluster     \n",
              "15 Wanita        20   Wiraswasta       Cluster     \n",
              "16 Pria          35   Professional     Cluster     \n",
              "17 Wanita        32   Ibu Rumah Tangga Cluster     \n",
              "18 Wanita        63   Ibu Rumah Tangga Cluster     \n",
              "19 Wanita        32   Wiraswasta       Cluster     \n",
              "20 Wanita        16   Pelajar          Sector      \n",
              "21 Wanita        38   Wiraswasta       Cluster     \n",
              "22 Wanita        52   Professional     Cluster     \n",
              "23 Pria          34   Professional     Cluster     \n",
              "24 Wanita        39   Wiraswasta       Cluster     \n",
              "25 Wanita        29   Wiraswasta       Sector      \n",
              "26 Wanita        55   Professional     Cluster     \n",
              "27 Wanita        35   Wiraswasta       Cluster     \n",
              "28 Wanita        40   Ibu Rumah Tangga Cluster     \n",
              "29 Wanita        56   Professional     Cluster     \n",
              "30 Wanita        46   Ibu Rumah Tangga Sector      \n",
              "31 Wanita        19   Mahasiswa        Cluster     \n",
              "32 Wanita        47   Wiraswasta       Sector      \n",
              "33 Wanita        19   Mahasiswa        Cluster     \n",
              "34 Wanita        21   Wiraswasta       Sector      \n",
              "35 Wanita        39   Professional     Sector      \n",
              "36 Wanita        30   Wiraswasta       Cluster     \n",
              "37 Wanita        25   Professional     Sector      \n",
              "38 Wanita        46   Wiraswasta       Sector      \n",
              "39 Wanita        20   Professional     Cluster     \n",
              "40 Wanita        14   Pelajar          Sector      \n",
              "41 Wanita        24   Ibu Rumah Tangga Cluster     \n",
              "42 Wanita        26   Wiraswasta       Cluster     \n",
              "43 Wanita        31   Professional     Cluster     \n",
              "44 Wanita        18   Wiraswasta       Cluster     \n",
              "45 Wanita        22   Professional     Cluster     \n",
              "46 Wanita        25   Wiraswasta       Sector      \n",
              "47 Wanita        55   Ibu Rumah Tangga Cluster     \n",
              "48 Wanita        45   Wiraswasta       Sector      \n",
              "49 Wanita        33   Ibu Rumah Tangga Sector      \n",
              "50 Wanita        55   Wiraswasta       Sector      "
            ]
          },
          "metadata": {}
        }
      ],
      "source": [
        "#read dataset\n",
        "pelanggan <- read.csv(\"https://storage.googleapis.com/dqlab-dataset/customer_segments.txt\", sep=\"\\t\")\n",
        "pelanggan[c(\"Jenis.Kelamin\",\"Umur\",\"Profesi\",\"Tipe.Residen\")]"
      ]
    },
    {
      "cell_type": "code",
      "source": [
        "#Konversi data menjadi numerik\n",
        "pelanggan_matrix <- data.matrix(pelanggan[c(\"Jenis.Kelamin\",\"Profesi\",\"Tipe.Residen\")])"
      ],
      "metadata": {
        "id": "HVvHWsbkncg5"
      },
      "execution_count": 19,
      "outputs": []
    },
    {
      "cell_type": "code",
      "source": [
        "#Menggabungkan hasil konversi\n",
        "pelanggan <- data.frame(pelanggan, pelanggan_matrix)\n",
        "#Tampilkan kembali data hasil penggabungan\n",
        "pelanggan"
      ],
      "metadata": {
        "colab": {
          "base_uri": "https://localhost:8080/",
          "height": 1000
        },
        "id": "L8Bxlp0RnqHC",
        "outputId": "8f73a704-3e5f-4516-febf-04e23c555f4b"
      },
      "execution_count": 20,
      "outputs": [
        {
          "output_type": "display_data",
          "data": {
            "text/html": [
              "<table class=\"dataframe\">\n",
              "<caption>A data.frame: 50 × 10</caption>\n",
              "<thead>\n",
              "\t<tr><th scope=col>Customer_ID</th><th scope=col>Nama.Pelanggan</th><th scope=col>Jenis.Kelamin</th><th scope=col>Umur</th><th scope=col>Profesi</th><th scope=col>Tipe.Residen</th><th scope=col>NilaiBelanjaSetahun</th><th scope=col>Jenis.Kelamin.1</th><th scope=col>Profesi.1</th><th scope=col>Tipe.Residen.1</th></tr>\n",
              "\t<tr><th scope=col>&lt;chr&gt;</th><th scope=col>&lt;chr&gt;</th><th scope=col>&lt;chr&gt;</th><th scope=col>&lt;int&gt;</th><th scope=col>&lt;chr&gt;</th><th scope=col>&lt;chr&gt;</th><th scope=col>&lt;int&gt;</th><th scope=col>&lt;int&gt;</th><th scope=col>&lt;int&gt;</th><th scope=col>&lt;int&gt;</th></tr>\n",
              "</thead>\n",
              "<tbody>\n",
              "\t<tr><td>CUST-001</td><td>Budi Anggara         </td><td>Pria  </td><td>58</td><td>Wiraswasta      </td><td>Sector </td><td> 9497927</td><td>1</td><td>5</td><td>2</td></tr>\n",
              "\t<tr><td>CUST-002</td><td>Shirley Ratuwati     </td><td>Wanita</td><td>14</td><td>Pelajar         </td><td>Cluster</td><td> 2722700</td><td>2</td><td>3</td><td>1</td></tr>\n",
              "\t<tr><td>CUST-003</td><td>Agus Cahyono         </td><td>Pria  </td><td>48</td><td>Professional    </td><td>Cluster</td><td> 5286429</td><td>1</td><td>4</td><td>1</td></tr>\n",
              "\t<tr><td>CUST-004</td><td>Antonius Winarta     </td><td>Pria  </td><td>53</td><td>Professional    </td><td>Cluster</td><td> 5204498</td><td>1</td><td>4</td><td>1</td></tr>\n",
              "\t<tr><td>CUST-005</td><td>Ibu Sri Wahyuni, IR  </td><td>Wanita</td><td>41</td><td>Wiraswasta      </td><td>Cluster</td><td>10615206</td><td>2</td><td>5</td><td>1</td></tr>\n",
              "\t<tr><td>CUST-006</td><td>Rosalina Kurnia      </td><td>Wanita</td><td>24</td><td>Professional    </td><td>Cluster</td><td> 5215541</td><td>2</td><td>4</td><td>1</td></tr>\n",
              "\t<tr><td>CUST-007</td><td>Cahyono, Agus        </td><td>Pria  </td><td>64</td><td>Wiraswasta      </td><td>Sector </td><td> 9837260</td><td>1</td><td>5</td><td>2</td></tr>\n",
              "\t<tr><td>CUST-008</td><td>Danang Santosa       </td><td>Pria  </td><td>52</td><td>Professional    </td><td>Cluster</td><td> 5223569</td><td>1</td><td>4</td><td>1</td></tr>\n",
              "\t<tr><td>CUST-009</td><td>Elisabeth Suryadinata</td><td>Wanita</td><td>29</td><td>Professional    </td><td>Sector </td><td> 5993218</td><td>2</td><td>4</td><td>2</td></tr>\n",
              "\t<tr><td>CUST-010</td><td>Mario Setiawan       </td><td>Pria  </td><td>33</td><td>Professional    </td><td>Cluster</td><td> 5257448</td><td>1</td><td>4</td><td>1</td></tr>\n",
              "\t<tr><td>CUST-011</td><td>Maria Suryawan       </td><td>Wanita</td><td>50</td><td>Professional    </td><td>Sector </td><td> 5987367</td><td>2</td><td>4</td><td>2</td></tr>\n",
              "\t<tr><td>CUST-012</td><td>Erliana Widjaja      </td><td>Wanita</td><td>49</td><td>Professional    </td><td>Sector </td><td> 5941914</td><td>2</td><td>4</td><td>2</td></tr>\n",
              "\t<tr><td>CUST-013</td><td>Cahaya Putri         </td><td>Wanita</td><td>64</td><td>Wiraswasta      </td><td>Cluster</td><td> 9333168</td><td>2</td><td>5</td><td>1</td></tr>\n",
              "\t<tr><td>CUST-014</td><td>Mario Setiawan       </td><td>Pria  </td><td>60</td><td>Wiraswasta      </td><td>Cluster</td><td> 9471615</td><td>1</td><td>5</td><td>1</td></tr>\n",
              "\t<tr><td>CUST-015</td><td>Shirley Ratuwati     </td><td>Wanita</td><td>20</td><td>Wiraswasta      </td><td>Cluster</td><td>10365668</td><td>2</td><td>5</td><td>1</td></tr>\n",
              "\t<tr><td>CUST-016</td><td>Bambang Rudi         </td><td>Pria  </td><td>35</td><td>Professional    </td><td>Cluster</td><td> 5262521</td><td>1</td><td>4</td><td>1</td></tr>\n",
              "\t<tr><td>CUST-017</td><td>Yuni Sari            </td><td>Wanita</td><td>32</td><td>Ibu Rumah Tangga</td><td>Cluster</td><td> 5677762</td><td>2</td><td>1</td><td>1</td></tr>\n",
              "\t<tr><td>CUST-018</td><td>Nelly Halim          </td><td>Wanita</td><td>63</td><td>Ibu Rumah Tangga</td><td>Cluster</td><td> 5340690</td><td>2</td><td>1</td><td>1</td></tr>\n",
              "\t<tr><td>CUST-019</td><td>Mega Pranoto         </td><td>Wanita</td><td>32</td><td>Wiraswasta      </td><td>Cluster</td><td>10884508</td><td>2</td><td>5</td><td>1</td></tr>\n",
              "\t<tr><td>CUST-020</td><td>Irene Novianto       </td><td>Wanita</td><td>16</td><td>Pelajar         </td><td>Sector </td><td> 2896845</td><td>2</td><td>3</td><td>2</td></tr>\n",
              "\t<tr><td>CUST-021</td><td>Lestari Fabianto     </td><td>Wanita</td><td>38</td><td>Wiraswasta      </td><td>Cluster</td><td> 9222070</td><td>2</td><td>5</td><td>1</td></tr>\n",
              "\t<tr><td>CUST-022</td><td>Novita Purba         </td><td>Wanita</td><td>52</td><td>Professional    </td><td>Cluster</td><td> 5298157</td><td>2</td><td>4</td><td>1</td></tr>\n",
              "\t<tr><td>CUST-023</td><td>Denny Amiruddin      </td><td>Pria  </td><td>34</td><td>Professional    </td><td>Cluster</td><td> 5239290</td><td>1</td><td>4</td><td>1</td></tr>\n",
              "\t<tr><td>CUST-024</td><td>Putri Ginting        </td><td>Wanita</td><td>39</td><td>Wiraswasta      </td><td>Cluster</td><td>10259572</td><td>2</td><td>5</td><td>1</td></tr>\n",
              "\t<tr><td>CUST-025</td><td>Julia Setiawan       </td><td>Wanita</td><td>29</td><td>Wiraswasta      </td><td>Sector </td><td>10721998</td><td>2</td><td>5</td><td>2</td></tr>\n",
              "\t<tr><td>CUST-026</td><td>Christine Winarto    </td><td>Wanita</td><td>55</td><td>Professional    </td><td>Cluster</td><td> 5269392</td><td>2</td><td>4</td><td>1</td></tr>\n",
              "\t<tr><td>CUST-027</td><td>Grace Mulyati        </td><td>Wanita</td><td>35</td><td>Wiraswasta      </td><td>Cluster</td><td> 9114159</td><td>2</td><td>5</td><td>1</td></tr>\n",
              "\t<tr><td>CUST-028</td><td>Adeline Huang        </td><td>Wanita</td><td>40</td><td>Ibu Rumah Tangga</td><td>Cluster</td><td> 6631680</td><td>2</td><td>1</td><td>1</td></tr>\n",
              "\t<tr><td>CUST-029</td><td>Tia Hartanti         </td><td>Wanita</td><td>56</td><td>Professional    </td><td>Cluster</td><td> 5271845</td><td>2</td><td>4</td><td>1</td></tr>\n",
              "\t<tr><td>CUST-030</td><td>Rosita Saragih       </td><td>Wanita</td><td>46</td><td>Ibu Rumah Tangga</td><td>Sector </td><td> 5020976</td><td>2</td><td>1</td><td>2</td></tr>\n",
              "\t<tr><td>CUST-031</td><td>Eviana Handry        </td><td>Wanita</td><td>19</td><td>Mahasiswa       </td><td>Cluster</td><td> 3042773</td><td>2</td><td>2</td><td>1</td></tr>\n",
              "\t<tr><td>CUST-032</td><td>Chintya Winarni      </td><td>Wanita</td><td>47</td><td>Wiraswasta      </td><td>Sector </td><td>10663179</td><td>2</td><td>5</td><td>2</td></tr>\n",
              "\t<tr><td>CUST-033</td><td>Cecilia Kusnadi      </td><td>Wanita</td><td>19</td><td>Mahasiswa       </td><td>Cluster</td><td> 3047926</td><td>2</td><td>2</td><td>1</td></tr>\n",
              "\t<tr><td>CUST-034</td><td>Deasy Arisandi       </td><td>Wanita</td><td>21</td><td>Wiraswasta      </td><td>Sector </td><td> 9759822</td><td>2</td><td>5</td><td>2</td></tr>\n",
              "\t<tr><td>CUST-035</td><td>Ida Ayu              </td><td>Wanita</td><td>39</td><td>Professional    </td><td>Sector </td><td> 5962575</td><td>2</td><td>4</td><td>2</td></tr>\n",
              "\t<tr><td>CUST-036</td><td>Ni Made Suasti       </td><td>Wanita</td><td>30</td><td>Wiraswasta      </td><td>Cluster</td><td> 9678994</td><td>2</td><td>5</td><td>1</td></tr>\n",
              "\t<tr><td>CUST-037</td><td>Felicia Tandiono     </td><td>Wanita</td><td>25</td><td>Professional    </td><td>Sector </td><td> 5972787</td><td>2</td><td>4</td><td>2</td></tr>\n",
              "\t<tr><td>CUST-038</td><td>Agatha Salim         </td><td>Wanita</td><td>46</td><td>Wiraswasta      </td><td>Sector </td><td>10477127</td><td>2</td><td>5</td><td>2</td></tr>\n",
              "\t<tr><td>CUST-039</td><td>Gina Hidayat         </td><td>Wanita</td><td>20</td><td>Professional    </td><td>Cluster</td><td> 5257775</td><td>2</td><td>4</td><td>1</td></tr>\n",
              "\t<tr><td>CUST-040</td><td>Irene Darmawan       </td><td>Wanita</td><td>14</td><td>Pelajar         </td><td>Sector </td><td> 2861855</td><td>2</td><td>3</td><td>2</td></tr>\n",
              "\t<tr><td>CUST-041</td><td>Shinta Aritonang     </td><td>Wanita</td><td>24</td><td>Ibu Rumah Tangga</td><td>Cluster</td><td> 6820976</td><td>2</td><td>1</td><td>1</td></tr>\n",
              "\t<tr><td>CUST-042</td><td>Yuliana Wati         </td><td>Wanita</td><td>26</td><td>Wiraswasta      </td><td>Cluster</td><td> 9880607</td><td>2</td><td>5</td><td>1</td></tr>\n",
              "\t<tr><td>CUST-043</td><td>Yenna Sumadi         </td><td>Wanita</td><td>31</td><td>Professional    </td><td>Cluster</td><td> 5268410</td><td>2</td><td>4</td><td>1</td></tr>\n",
              "\t<tr><td>CUST-044</td><td>Anna                 </td><td>Wanita</td><td>18</td><td>Wiraswasta      </td><td>Cluster</td><td> 9339737</td><td>2</td><td>5</td><td>1</td></tr>\n",
              "\t<tr><td>CUST-045</td><td>Rismawati Juni       </td><td>Wanita</td><td>22</td><td>Professional    </td><td>Cluster</td><td> 5211041</td><td>2</td><td>4</td><td>1</td></tr>\n",
              "\t<tr><td>CUST-046</td><td>Elfira Surya         </td><td>Wanita</td><td>25</td><td>Wiraswasta      </td><td>Sector </td><td>10099807</td><td>2</td><td>5</td><td>2</td></tr>\n",
              "\t<tr><td>CUST-047</td><td>Mira Kurnia          </td><td>Wanita</td><td>55</td><td>Ibu Rumah Tangga</td><td>Cluster</td><td> 6130724</td><td>2</td><td>1</td><td>1</td></tr>\n",
              "\t<tr><td>CUST-048</td><td>Maria Hutagalung     </td><td>Wanita</td><td>45</td><td>Wiraswasta      </td><td>Sector </td><td>10390732</td><td>2</td><td>5</td><td>2</td></tr>\n",
              "\t<tr><td>CUST-049</td><td>Josephine Wahab      </td><td>Wanita</td><td>33</td><td>Ibu Rumah Tangga</td><td>Sector </td><td> 4992585</td><td>2</td><td>1</td><td>2</td></tr>\n",
              "\t<tr><td>CUST-050</td><td>Lianna Nugraha       </td><td>Wanita</td><td>55</td><td>Wiraswasta      </td><td>Sector </td><td>10569316</td><td>2</td><td>5</td><td>2</td></tr>\n",
              "</tbody>\n",
              "</table>\n"
            ],
            "text/markdown": "\nA data.frame: 50 × 10\n\n| Customer_ID &lt;chr&gt; | Nama.Pelanggan &lt;chr&gt; | Jenis.Kelamin &lt;chr&gt; | Umur &lt;int&gt; | Profesi &lt;chr&gt; | Tipe.Residen &lt;chr&gt; | NilaiBelanjaSetahun &lt;int&gt; | Jenis.Kelamin.1 &lt;int&gt; | Profesi.1 &lt;int&gt; | Tipe.Residen.1 &lt;int&gt; |\n|---|---|---|---|---|---|---|---|---|---|\n| CUST-001 | Budi Anggara          | Pria   | 58 | Wiraswasta       | Sector  |  9497927 | 1 | 5 | 2 |\n| CUST-002 | Shirley Ratuwati      | Wanita | 14 | Pelajar          | Cluster |  2722700 | 2 | 3 | 1 |\n| CUST-003 | Agus Cahyono          | Pria   | 48 | Professional     | Cluster |  5286429 | 1 | 4 | 1 |\n| CUST-004 | Antonius Winarta      | Pria   | 53 | Professional     | Cluster |  5204498 | 1 | 4 | 1 |\n| CUST-005 | Ibu Sri Wahyuni, IR   | Wanita | 41 | Wiraswasta       | Cluster | 10615206 | 2 | 5 | 1 |\n| CUST-006 | Rosalina Kurnia       | Wanita | 24 | Professional     | Cluster |  5215541 | 2 | 4 | 1 |\n| CUST-007 | Cahyono, Agus         | Pria   | 64 | Wiraswasta       | Sector  |  9837260 | 1 | 5 | 2 |\n| CUST-008 | Danang Santosa        | Pria   | 52 | Professional     | Cluster |  5223569 | 1 | 4 | 1 |\n| CUST-009 | Elisabeth Suryadinata | Wanita | 29 | Professional     | Sector  |  5993218 | 2 | 4 | 2 |\n| CUST-010 | Mario Setiawan        | Pria   | 33 | Professional     | Cluster |  5257448 | 1 | 4 | 1 |\n| CUST-011 | Maria Suryawan        | Wanita | 50 | Professional     | Sector  |  5987367 | 2 | 4 | 2 |\n| CUST-012 | Erliana Widjaja       | Wanita | 49 | Professional     | Sector  |  5941914 | 2 | 4 | 2 |\n| CUST-013 | Cahaya Putri          | Wanita | 64 | Wiraswasta       | Cluster |  9333168 | 2 | 5 | 1 |\n| CUST-014 | Mario Setiawan        | Pria   | 60 | Wiraswasta       | Cluster |  9471615 | 1 | 5 | 1 |\n| CUST-015 | Shirley Ratuwati      | Wanita | 20 | Wiraswasta       | Cluster | 10365668 | 2 | 5 | 1 |\n| CUST-016 | Bambang Rudi          | Pria   | 35 | Professional     | Cluster |  5262521 | 1 | 4 | 1 |\n| CUST-017 | Yuni Sari             | Wanita | 32 | Ibu Rumah Tangga | Cluster |  5677762 | 2 | 1 | 1 |\n| CUST-018 | Nelly Halim           | Wanita | 63 | Ibu Rumah Tangga | Cluster |  5340690 | 2 | 1 | 1 |\n| CUST-019 | Mega Pranoto          | Wanita | 32 | Wiraswasta       | Cluster | 10884508 | 2 | 5 | 1 |\n| CUST-020 | Irene Novianto        | Wanita | 16 | Pelajar          | Sector  |  2896845 | 2 | 3 | 2 |\n| CUST-021 | Lestari Fabianto      | Wanita | 38 | Wiraswasta       | Cluster |  9222070 | 2 | 5 | 1 |\n| CUST-022 | Novita Purba          | Wanita | 52 | Professional     | Cluster |  5298157 | 2 | 4 | 1 |\n| CUST-023 | Denny Amiruddin       | Pria   | 34 | Professional     | Cluster |  5239290 | 1 | 4 | 1 |\n| CUST-024 | Putri Ginting         | Wanita | 39 | Wiraswasta       | Cluster | 10259572 | 2 | 5 | 1 |\n| CUST-025 | Julia Setiawan        | Wanita | 29 | Wiraswasta       | Sector  | 10721998 | 2 | 5 | 2 |\n| CUST-026 | Christine Winarto     | Wanita | 55 | Professional     | Cluster |  5269392 | 2 | 4 | 1 |\n| CUST-027 | Grace Mulyati         | Wanita | 35 | Wiraswasta       | Cluster |  9114159 | 2 | 5 | 1 |\n| CUST-028 | Adeline Huang         | Wanita | 40 | Ibu Rumah Tangga | Cluster |  6631680 | 2 | 1 | 1 |\n| CUST-029 | Tia Hartanti          | Wanita | 56 | Professional     | Cluster |  5271845 | 2 | 4 | 1 |\n| CUST-030 | Rosita Saragih        | Wanita | 46 | Ibu Rumah Tangga | Sector  |  5020976 | 2 | 1 | 2 |\n| CUST-031 | Eviana Handry         | Wanita | 19 | Mahasiswa        | Cluster |  3042773 | 2 | 2 | 1 |\n| CUST-032 | Chintya Winarni       | Wanita | 47 | Wiraswasta       | Sector  | 10663179 | 2 | 5 | 2 |\n| CUST-033 | Cecilia Kusnadi       | Wanita | 19 | Mahasiswa        | Cluster |  3047926 | 2 | 2 | 1 |\n| CUST-034 | Deasy Arisandi        | Wanita | 21 | Wiraswasta       | Sector  |  9759822 | 2 | 5 | 2 |\n| CUST-035 | Ida Ayu               | Wanita | 39 | Professional     | Sector  |  5962575 | 2 | 4 | 2 |\n| CUST-036 | Ni Made Suasti        | Wanita | 30 | Wiraswasta       | Cluster |  9678994 | 2 | 5 | 1 |\n| CUST-037 | Felicia Tandiono      | Wanita | 25 | Professional     | Sector  |  5972787 | 2 | 4 | 2 |\n| CUST-038 | Agatha Salim          | Wanita | 46 | Wiraswasta       | Sector  | 10477127 | 2 | 5 | 2 |\n| CUST-039 | Gina Hidayat          | Wanita | 20 | Professional     | Cluster |  5257775 | 2 | 4 | 1 |\n| CUST-040 | Irene Darmawan        | Wanita | 14 | Pelajar          | Sector  |  2861855 | 2 | 3 | 2 |\n| CUST-041 | Shinta Aritonang      | Wanita | 24 | Ibu Rumah Tangga | Cluster |  6820976 | 2 | 1 | 1 |\n| CUST-042 | Yuliana Wati          | Wanita | 26 | Wiraswasta       | Cluster |  9880607 | 2 | 5 | 1 |\n| CUST-043 | Yenna Sumadi          | Wanita | 31 | Professional     | Cluster |  5268410 | 2 | 4 | 1 |\n| CUST-044 | Anna                  | Wanita | 18 | Wiraswasta       | Cluster |  9339737 | 2 | 5 | 1 |\n| CUST-045 | Rismawati Juni        | Wanita | 22 | Professional     | Cluster |  5211041 | 2 | 4 | 1 |\n| CUST-046 | Elfira Surya          | Wanita | 25 | Wiraswasta       | Sector  | 10099807 | 2 | 5 | 2 |\n| CUST-047 | Mira Kurnia           | Wanita | 55 | Ibu Rumah Tangga | Cluster |  6130724 | 2 | 1 | 1 |\n| CUST-048 | Maria Hutagalung      | Wanita | 45 | Wiraswasta       | Sector  | 10390732 | 2 | 5 | 2 |\n| CUST-049 | Josephine Wahab       | Wanita | 33 | Ibu Rumah Tangga | Sector  |  4992585 | 2 | 1 | 2 |\n| CUST-050 | Lianna Nugraha        | Wanita | 55 | Wiraswasta       | Sector  | 10569316 | 2 | 5 | 2 |\n\n",
            "text/latex": "A data.frame: 50 × 10\n\\begin{tabular}{llllllllll}\n Customer\\_ID & Nama.Pelanggan & Jenis.Kelamin & Umur & Profesi & Tipe.Residen & NilaiBelanjaSetahun & Jenis.Kelamin.1 & Profesi.1 & Tipe.Residen.1\\\\\n <chr> & <chr> & <chr> & <int> & <chr> & <chr> & <int> & <int> & <int> & <int>\\\\\n\\hline\n\t CUST-001 & Budi Anggara          & Pria   & 58 & Wiraswasta       & Sector  &  9497927 & 1 & 5 & 2\\\\\n\t CUST-002 & Shirley Ratuwati      & Wanita & 14 & Pelajar          & Cluster &  2722700 & 2 & 3 & 1\\\\\n\t CUST-003 & Agus Cahyono          & Pria   & 48 & Professional     & Cluster &  5286429 & 1 & 4 & 1\\\\\n\t CUST-004 & Antonius Winarta      & Pria   & 53 & Professional     & Cluster &  5204498 & 1 & 4 & 1\\\\\n\t CUST-005 & Ibu Sri Wahyuni, IR   & Wanita & 41 & Wiraswasta       & Cluster & 10615206 & 2 & 5 & 1\\\\\n\t CUST-006 & Rosalina Kurnia       & Wanita & 24 & Professional     & Cluster &  5215541 & 2 & 4 & 1\\\\\n\t CUST-007 & Cahyono, Agus         & Pria   & 64 & Wiraswasta       & Sector  &  9837260 & 1 & 5 & 2\\\\\n\t CUST-008 & Danang Santosa        & Pria   & 52 & Professional     & Cluster &  5223569 & 1 & 4 & 1\\\\\n\t CUST-009 & Elisabeth Suryadinata & Wanita & 29 & Professional     & Sector  &  5993218 & 2 & 4 & 2\\\\\n\t CUST-010 & Mario Setiawan        & Pria   & 33 & Professional     & Cluster &  5257448 & 1 & 4 & 1\\\\\n\t CUST-011 & Maria Suryawan        & Wanita & 50 & Professional     & Sector  &  5987367 & 2 & 4 & 2\\\\\n\t CUST-012 & Erliana Widjaja       & Wanita & 49 & Professional     & Sector  &  5941914 & 2 & 4 & 2\\\\\n\t CUST-013 & Cahaya Putri          & Wanita & 64 & Wiraswasta       & Cluster &  9333168 & 2 & 5 & 1\\\\\n\t CUST-014 & Mario Setiawan        & Pria   & 60 & Wiraswasta       & Cluster &  9471615 & 1 & 5 & 1\\\\\n\t CUST-015 & Shirley Ratuwati      & Wanita & 20 & Wiraswasta       & Cluster & 10365668 & 2 & 5 & 1\\\\\n\t CUST-016 & Bambang Rudi          & Pria   & 35 & Professional     & Cluster &  5262521 & 1 & 4 & 1\\\\\n\t CUST-017 & Yuni Sari             & Wanita & 32 & Ibu Rumah Tangga & Cluster &  5677762 & 2 & 1 & 1\\\\\n\t CUST-018 & Nelly Halim           & Wanita & 63 & Ibu Rumah Tangga & Cluster &  5340690 & 2 & 1 & 1\\\\\n\t CUST-019 & Mega Pranoto          & Wanita & 32 & Wiraswasta       & Cluster & 10884508 & 2 & 5 & 1\\\\\n\t CUST-020 & Irene Novianto        & Wanita & 16 & Pelajar          & Sector  &  2896845 & 2 & 3 & 2\\\\\n\t CUST-021 & Lestari Fabianto      & Wanita & 38 & Wiraswasta       & Cluster &  9222070 & 2 & 5 & 1\\\\\n\t CUST-022 & Novita Purba          & Wanita & 52 & Professional     & Cluster &  5298157 & 2 & 4 & 1\\\\\n\t CUST-023 & Denny Amiruddin       & Pria   & 34 & Professional     & Cluster &  5239290 & 1 & 4 & 1\\\\\n\t CUST-024 & Putri Ginting         & Wanita & 39 & Wiraswasta       & Cluster & 10259572 & 2 & 5 & 1\\\\\n\t CUST-025 & Julia Setiawan        & Wanita & 29 & Wiraswasta       & Sector  & 10721998 & 2 & 5 & 2\\\\\n\t CUST-026 & Christine Winarto     & Wanita & 55 & Professional     & Cluster &  5269392 & 2 & 4 & 1\\\\\n\t CUST-027 & Grace Mulyati         & Wanita & 35 & Wiraswasta       & Cluster &  9114159 & 2 & 5 & 1\\\\\n\t CUST-028 & Adeline Huang         & Wanita & 40 & Ibu Rumah Tangga & Cluster &  6631680 & 2 & 1 & 1\\\\\n\t CUST-029 & Tia Hartanti          & Wanita & 56 & Professional     & Cluster &  5271845 & 2 & 4 & 1\\\\\n\t CUST-030 & Rosita Saragih        & Wanita & 46 & Ibu Rumah Tangga & Sector  &  5020976 & 2 & 1 & 2\\\\\n\t CUST-031 & Eviana Handry         & Wanita & 19 & Mahasiswa        & Cluster &  3042773 & 2 & 2 & 1\\\\\n\t CUST-032 & Chintya Winarni       & Wanita & 47 & Wiraswasta       & Sector  & 10663179 & 2 & 5 & 2\\\\\n\t CUST-033 & Cecilia Kusnadi       & Wanita & 19 & Mahasiswa        & Cluster &  3047926 & 2 & 2 & 1\\\\\n\t CUST-034 & Deasy Arisandi        & Wanita & 21 & Wiraswasta       & Sector  &  9759822 & 2 & 5 & 2\\\\\n\t CUST-035 & Ida Ayu               & Wanita & 39 & Professional     & Sector  &  5962575 & 2 & 4 & 2\\\\\n\t CUST-036 & Ni Made Suasti        & Wanita & 30 & Wiraswasta       & Cluster &  9678994 & 2 & 5 & 1\\\\\n\t CUST-037 & Felicia Tandiono      & Wanita & 25 & Professional     & Sector  &  5972787 & 2 & 4 & 2\\\\\n\t CUST-038 & Agatha Salim          & Wanita & 46 & Wiraswasta       & Sector  & 10477127 & 2 & 5 & 2\\\\\n\t CUST-039 & Gina Hidayat          & Wanita & 20 & Professional     & Cluster &  5257775 & 2 & 4 & 1\\\\\n\t CUST-040 & Irene Darmawan        & Wanita & 14 & Pelajar          & Sector  &  2861855 & 2 & 3 & 2\\\\\n\t CUST-041 & Shinta Aritonang      & Wanita & 24 & Ibu Rumah Tangga & Cluster &  6820976 & 2 & 1 & 1\\\\\n\t CUST-042 & Yuliana Wati          & Wanita & 26 & Wiraswasta       & Cluster &  9880607 & 2 & 5 & 1\\\\\n\t CUST-043 & Yenna Sumadi          & Wanita & 31 & Professional     & Cluster &  5268410 & 2 & 4 & 1\\\\\n\t CUST-044 & Anna                  & Wanita & 18 & Wiraswasta       & Cluster &  9339737 & 2 & 5 & 1\\\\\n\t CUST-045 & Rismawati Juni        & Wanita & 22 & Professional     & Cluster &  5211041 & 2 & 4 & 1\\\\\n\t CUST-046 & Elfira Surya          & Wanita & 25 & Wiraswasta       & Sector  & 10099807 & 2 & 5 & 2\\\\\n\t CUST-047 & Mira Kurnia           & Wanita & 55 & Ibu Rumah Tangga & Cluster &  6130724 & 2 & 1 & 1\\\\\n\t CUST-048 & Maria Hutagalung      & Wanita & 45 & Wiraswasta       & Sector  & 10390732 & 2 & 5 & 2\\\\\n\t CUST-049 & Josephine Wahab       & Wanita & 33 & Ibu Rumah Tangga & Sector  &  4992585 & 2 & 1 & 2\\\\\n\t CUST-050 & Lianna Nugraha        & Wanita & 55 & Wiraswasta       & Sector  & 10569316 & 2 & 5 & 2\\\\\n\\end{tabular}\n",
            "text/plain": [
              "   Customer_ID Nama.Pelanggan        Jenis.Kelamin Umur Profesi         \n",
              "1  CUST-001    Budi Anggara          Pria          58   Wiraswasta      \n",
              "2  CUST-002    Shirley Ratuwati      Wanita        14   Pelajar         \n",
              "3  CUST-003    Agus Cahyono          Pria          48   Professional    \n",
              "4  CUST-004    Antonius Winarta      Pria          53   Professional    \n",
              "5  CUST-005    Ibu Sri Wahyuni, IR   Wanita        41   Wiraswasta      \n",
              "6  CUST-006    Rosalina Kurnia       Wanita        24   Professional    \n",
              "7  CUST-007    Cahyono, Agus         Pria          64   Wiraswasta      \n",
              "8  CUST-008    Danang Santosa        Pria          52   Professional    \n",
              "9  CUST-009    Elisabeth Suryadinata Wanita        29   Professional    \n",
              "10 CUST-010    Mario Setiawan        Pria          33   Professional    \n",
              "11 CUST-011    Maria Suryawan        Wanita        50   Professional    \n",
              "12 CUST-012    Erliana Widjaja       Wanita        49   Professional    \n",
              "13 CUST-013    Cahaya Putri          Wanita        64   Wiraswasta      \n",
              "14 CUST-014    Mario Setiawan        Pria          60   Wiraswasta      \n",
              "15 CUST-015    Shirley Ratuwati      Wanita        20   Wiraswasta      \n",
              "16 CUST-016    Bambang Rudi          Pria          35   Professional    \n",
              "17 CUST-017    Yuni Sari             Wanita        32   Ibu Rumah Tangga\n",
              "18 CUST-018    Nelly Halim           Wanita        63   Ibu Rumah Tangga\n",
              "19 CUST-019    Mega Pranoto          Wanita        32   Wiraswasta      \n",
              "20 CUST-020    Irene Novianto        Wanita        16   Pelajar         \n",
              "21 CUST-021    Lestari Fabianto      Wanita        38   Wiraswasta      \n",
              "22 CUST-022    Novita Purba          Wanita        52   Professional    \n",
              "23 CUST-023    Denny Amiruddin       Pria          34   Professional    \n",
              "24 CUST-024    Putri Ginting         Wanita        39   Wiraswasta      \n",
              "25 CUST-025    Julia Setiawan        Wanita        29   Wiraswasta      \n",
              "26 CUST-026    Christine Winarto     Wanita        55   Professional    \n",
              "27 CUST-027    Grace Mulyati         Wanita        35   Wiraswasta      \n",
              "28 CUST-028    Adeline Huang         Wanita        40   Ibu Rumah Tangga\n",
              "29 CUST-029    Tia Hartanti          Wanita        56   Professional    \n",
              "30 CUST-030    Rosita Saragih        Wanita        46   Ibu Rumah Tangga\n",
              "31 CUST-031    Eviana Handry         Wanita        19   Mahasiswa       \n",
              "32 CUST-032    Chintya Winarni       Wanita        47   Wiraswasta      \n",
              "33 CUST-033    Cecilia Kusnadi       Wanita        19   Mahasiswa       \n",
              "34 CUST-034    Deasy Arisandi        Wanita        21   Wiraswasta      \n",
              "35 CUST-035    Ida Ayu               Wanita        39   Professional    \n",
              "36 CUST-036    Ni Made Suasti        Wanita        30   Wiraswasta      \n",
              "37 CUST-037    Felicia Tandiono      Wanita        25   Professional    \n",
              "38 CUST-038    Agatha Salim          Wanita        46   Wiraswasta      \n",
              "39 CUST-039    Gina Hidayat          Wanita        20   Professional    \n",
              "40 CUST-040    Irene Darmawan        Wanita        14   Pelajar         \n",
              "41 CUST-041    Shinta Aritonang      Wanita        24   Ibu Rumah Tangga\n",
              "42 CUST-042    Yuliana Wati          Wanita        26   Wiraswasta      \n",
              "43 CUST-043    Yenna Sumadi          Wanita        31   Professional    \n",
              "44 CUST-044    Anna                  Wanita        18   Wiraswasta      \n",
              "45 CUST-045    Rismawati Juni        Wanita        22   Professional    \n",
              "46 CUST-046    Elfira Surya          Wanita        25   Wiraswasta      \n",
              "47 CUST-047    Mira Kurnia           Wanita        55   Ibu Rumah Tangga\n",
              "48 CUST-048    Maria Hutagalung      Wanita        45   Wiraswasta      \n",
              "49 CUST-049    Josephine Wahab       Wanita        33   Ibu Rumah Tangga\n",
              "50 CUST-050    Lianna Nugraha        Wanita        55   Wiraswasta      \n",
              "   Tipe.Residen NilaiBelanjaSetahun Jenis.Kelamin.1 Profesi.1 Tipe.Residen.1\n",
              "1  Sector        9497927            1               5         2             \n",
              "2  Cluster       2722700            2               3         1             \n",
              "3  Cluster       5286429            1               4         1             \n",
              "4  Cluster       5204498            1               4         1             \n",
              "5  Cluster      10615206            2               5         1             \n",
              "6  Cluster       5215541            2               4         1             \n",
              "7  Sector        9837260            1               5         2             \n",
              "8  Cluster       5223569            1               4         1             \n",
              "9  Sector        5993218            2               4         2             \n",
              "10 Cluster       5257448            1               4         1             \n",
              "11 Sector        5987367            2               4         2             \n",
              "12 Sector        5941914            2               4         2             \n",
              "13 Cluster       9333168            2               5         1             \n",
              "14 Cluster       9471615            1               5         1             \n",
              "15 Cluster      10365668            2               5         1             \n",
              "16 Cluster       5262521            1               4         1             \n",
              "17 Cluster       5677762            2               1         1             \n",
              "18 Cluster       5340690            2               1         1             \n",
              "19 Cluster      10884508            2               5         1             \n",
              "20 Sector        2896845            2               3         2             \n",
              "21 Cluster       9222070            2               5         1             \n",
              "22 Cluster       5298157            2               4         1             \n",
              "23 Cluster       5239290            1               4         1             \n",
              "24 Cluster      10259572            2               5         1             \n",
              "25 Sector       10721998            2               5         2             \n",
              "26 Cluster       5269392            2               4         1             \n",
              "27 Cluster       9114159            2               5         1             \n",
              "28 Cluster       6631680            2               1         1             \n",
              "29 Cluster       5271845            2               4         1             \n",
              "30 Sector        5020976            2               1         2             \n",
              "31 Cluster       3042773            2               2         1             \n",
              "32 Sector       10663179            2               5         2             \n",
              "33 Cluster       3047926            2               2         1             \n",
              "34 Sector        9759822            2               5         2             \n",
              "35 Sector        5962575            2               4         2             \n",
              "36 Cluster       9678994            2               5         1             \n",
              "37 Sector        5972787            2               4         2             \n",
              "38 Sector       10477127            2               5         2             \n",
              "39 Cluster       5257775            2               4         1             \n",
              "40 Sector        2861855            2               3         2             \n",
              "41 Cluster       6820976            2               1         1             \n",
              "42 Cluster       9880607            2               5         1             \n",
              "43 Cluster       5268410            2               4         1             \n",
              "44 Cluster       9339737            2               5         1             \n",
              "45 Cluster       5211041            2               4         1             \n",
              "46 Sector       10099807            2               5         2             \n",
              "47 Cluster       6130724            2               1         1             \n",
              "48 Sector       10390732            2               5         2             \n",
              "49 Sector        4992585            2               1         2             \n",
              "50 Sector       10569316            2               5         2             "
            ]
          },
          "metadata": {}
        }
      ]
    },
    {
      "cell_type": "code",
      "source": [
        "#Normalisasi nilai belanja\n",
        "pelanggan$NilaiBelanjaSetahun <- pelanggan$NilaiBelanjaSetahun/1000000"
      ],
      "metadata": {
        "id": "7qoIYPm6oAWf"
      },
      "execution_count": 21,
      "outputs": []
    },
    {
      "cell_type": "code",
      "source": [
        "#Membuat data master\n",
        "Profesi <- unique(pelanggan[c(\"Profesi\",\"Profesi.1\")])\n",
        "Jenis.Kelamin <- unique(pelanggan[c(\"Jenis.Kelamin\",\"Jenis.Kelamin.1\")])\n",
        "Tipe.Residen <- unique(pelanggan[c(\"Tipe.Residen\",\"Tipe.Residen.1\")])\n",
        "\n",
        "Profesi\n",
        "Jenis.Kelamin\n",
        "Tipe.Residen"
      ],
      "metadata": {
        "colab": {
          "base_uri": "https://localhost:8080/",
          "height": 542
        },
        "id": "117BnojpoND4",
        "outputId": "eea385c2-df7c-43f5-baab-2f3752417c82"
      },
      "execution_count": 22,
      "outputs": [
        {
          "output_type": "display_data",
          "data": {
            "text/html": [
              "<table class=\"dataframe\">\n",
              "<caption>A data.frame: 5 × 2</caption>\n",
              "<thead>\n",
              "\t<tr><th></th><th scope=col>Profesi</th><th scope=col>Profesi.1</th></tr>\n",
              "\t<tr><th></th><th scope=col>&lt;chr&gt;</th><th scope=col>&lt;int&gt;</th></tr>\n",
              "</thead>\n",
              "<tbody>\n",
              "\t<tr><th scope=row>1</th><td>Wiraswasta      </td><td>5</td></tr>\n",
              "\t<tr><th scope=row>2</th><td>Pelajar         </td><td>3</td></tr>\n",
              "\t<tr><th scope=row>3</th><td>Professional    </td><td>4</td></tr>\n",
              "\t<tr><th scope=row>17</th><td>Ibu Rumah Tangga</td><td>1</td></tr>\n",
              "\t<tr><th scope=row>31</th><td>Mahasiswa       </td><td>2</td></tr>\n",
              "</tbody>\n",
              "</table>\n"
            ],
            "text/markdown": "\nA data.frame: 5 × 2\n\n| <!--/--> | Profesi &lt;chr&gt; | Profesi.1 &lt;int&gt; |\n|---|---|---|\n| 1 | Wiraswasta       | 5 |\n| 2 | Pelajar          | 3 |\n| 3 | Professional     | 4 |\n| 17 | Ibu Rumah Tangga | 1 |\n| 31 | Mahasiswa        | 2 |\n\n",
            "text/latex": "A data.frame: 5 × 2\n\\begin{tabular}{r|ll}\n  & Profesi & Profesi.1\\\\\n  & <chr> & <int>\\\\\n\\hline\n\t1 & Wiraswasta       & 5\\\\\n\t2 & Pelajar          & 3\\\\\n\t3 & Professional     & 4\\\\\n\t17 & Ibu Rumah Tangga & 1\\\\\n\t31 & Mahasiswa        & 2\\\\\n\\end{tabular}\n",
            "text/plain": [
              "   Profesi          Profesi.1\n",
              "1  Wiraswasta       5        \n",
              "2  Pelajar          3        \n",
              "3  Professional     4        \n",
              "17 Ibu Rumah Tangga 1        \n",
              "31 Mahasiswa        2        "
            ]
          },
          "metadata": {}
        },
        {
          "output_type": "display_data",
          "data": {
            "text/html": [
              "<table class=\"dataframe\">\n",
              "<caption>A data.frame: 2 × 2</caption>\n",
              "<thead>\n",
              "\t<tr><th></th><th scope=col>Jenis.Kelamin</th><th scope=col>Jenis.Kelamin.1</th></tr>\n",
              "\t<tr><th></th><th scope=col>&lt;chr&gt;</th><th scope=col>&lt;int&gt;</th></tr>\n",
              "</thead>\n",
              "<tbody>\n",
              "\t<tr><th scope=row>1</th><td>Pria  </td><td>1</td></tr>\n",
              "\t<tr><th scope=row>2</th><td>Wanita</td><td>2</td></tr>\n",
              "</tbody>\n",
              "</table>\n"
            ],
            "text/markdown": "\nA data.frame: 2 × 2\n\n| <!--/--> | Jenis.Kelamin &lt;chr&gt; | Jenis.Kelamin.1 &lt;int&gt; |\n|---|---|---|\n| 1 | Pria   | 1 |\n| 2 | Wanita | 2 |\n\n",
            "text/latex": "A data.frame: 2 × 2\n\\begin{tabular}{r|ll}\n  & Jenis.Kelamin & Jenis.Kelamin.1\\\\\n  & <chr> & <int>\\\\\n\\hline\n\t1 & Pria   & 1\\\\\n\t2 & Wanita & 2\\\\\n\\end{tabular}\n",
            "text/plain": [
              "  Jenis.Kelamin Jenis.Kelamin.1\n",
              "1 Pria          1              \n",
              "2 Wanita        2              "
            ]
          },
          "metadata": {}
        },
        {
          "output_type": "display_data",
          "data": {
            "text/html": [
              "<table class=\"dataframe\">\n",
              "<caption>A data.frame: 2 × 2</caption>\n",
              "<thead>\n",
              "\t<tr><th></th><th scope=col>Tipe.Residen</th><th scope=col>Tipe.Residen.1</th></tr>\n",
              "\t<tr><th></th><th scope=col>&lt;chr&gt;</th><th scope=col>&lt;int&gt;</th></tr>\n",
              "</thead>\n",
              "<tbody>\n",
              "\t<tr><th scope=row>1</th><td>Sector </td><td>2</td></tr>\n",
              "\t<tr><th scope=row>2</th><td>Cluster</td><td>1</td></tr>\n",
              "</tbody>\n",
              "</table>\n"
            ],
            "text/markdown": "\nA data.frame: 2 × 2\n\n| <!--/--> | Tipe.Residen &lt;chr&gt; | Tipe.Residen.1 &lt;int&gt; |\n|---|---|---|\n| 1 | Sector  | 2 |\n| 2 | Cluster | 1 |\n\n",
            "text/latex": "A data.frame: 2 × 2\n\\begin{tabular}{r|ll}\n  & Tipe.Residen & Tipe.Residen.1\\\\\n  & <chr> & <int>\\\\\n\\hline\n\t1 & Sector  & 2\\\\\n\t2 & Cluster & 1\\\\\n\\end{tabular}\n",
            "text/plain": [
              "  Tipe.Residen Tipe.Residen.1\n",
              "1 Sector       2             \n",
              "2 Cluster      1             "
            ]
          },
          "metadata": {}
        }
      ]
    },
    {
      "cell_type": "code",
      "source": [
        "#Field yang akan digunakan setelah konversi\n",
        "field_yang_digunakan = c(\"Jenis.Kelamin.1\", \"Umur\", \"Profesi.1\", \"Tipe.Residen.1\",\"NilaiBelanjaSetahun\")"
      ],
      "metadata": {
        "id": "hq-ugBs1omml"
      },
      "execution_count": 23,
      "outputs": []
    },
    {
      "cell_type": "code",
      "source": [
        "#K-Means\n",
        "set.seed(1)\n",
        "#fungsi kmeans untuk membentuk 5 cluster dengan 25 skenario random dan simpan ke dalam variable segmentasi\n",
        "segmentasi <- kmeans(x=pelanggan[field_yang_digunakan], centers=5, nstart=25)\n",
        "#tampilkan hasil k-means\n",
        "segmentasi"
      ],
      "metadata": {
        "colab": {
          "base_uri": "https://localhost:8080/",
          "height": 399
        },
        "id": "JROrcU_8pCQ3",
        "outputId": "47893ca9-9db9-431b-b3f5-d3087d6c0008"
      },
      "execution_count": 24,
      "outputs": [
        {
          "output_type": "display_data",
          "data": {
            "text/plain": [
              "K-means clustering with 5 clusters of sizes 12, 10, 5, 14, 9\n",
              "\n",
              "Cluster means:\n",
              "  Jenis.Kelamin.1     Umur Profesi.1 Tipe.Residen.1 NilaiBelanjaSetahun\n",
              "1            1.75 31.58333  3.916667       1.250000            7.330958\n",
              "2            1.70 52.50000  3.800000       1.300000            6.018321\n",
              "3            1.40 61.80000  4.200000       1.400000            8.696132\n",
              "4            2.00 20.07143  3.571429       1.357143            5.901089\n",
              "5            2.00 42.33333  4.000000       1.555556            8.804791\n",
              "\n",
              "Clustering vector:\n",
              " [1] 3 4 2 2 5 4 3 2 1 1 2 2 3 3 4 1 1 3 1 4 5 2 1 5 1 2 1 5 2 5 4 5 4 4 5 1 4 5\n",
              "[39] 4 4 4 1 1 4 4 4 2 5 1 2\n",
              "\n",
              "Within cluster sum of squares by cluster:\n",
              "[1] 174.85164 108.49735  58.21123 316.73367 171.67372\n",
              " (between_SS / total_SS =  92.4 %)\n",
              "\n",
              "Available components:\n",
              "\n",
              "[1] \"cluster\"      \"centers\"      \"totss\"        \"withinss\"     \"tot.withinss\"\n",
              "[6] \"betweenss\"    \"size\"         \"iter\"         \"ifault\"      "
            ]
          },
          "metadata": {}
        }
      ]
    },
    {
      "cell_type": "code",
      "source": [
        "#Analisa hasil clustering vector\n",
        "segmentasi$cluster\n",
        "\n",
        "pelanggan$cluster <- segmentasi$cluster\n",
        "\n",
        "str(pelanggan)"
      ],
      "metadata": {
        "colab": {
          "base_uri": "https://localhost:8080/",
          "height": 280
        },
        "id": "8lNsnCnYpTzg",
        "outputId": "cd03614e-685a-401a-9ec4-910062cc60bf"
      },
      "execution_count": 25,
      "outputs": [
        {
          "output_type": "display_data",
          "data": {
            "text/html": [
              "<style>\n",
              ".list-inline {list-style: none; margin:0; padding: 0}\n",
              ".list-inline>li {display: inline-block}\n",
              ".list-inline>li:not(:last-child)::after {content: \"\\00b7\"; padding: 0 .5ex}\n",
              "</style>\n",
              "<ol class=list-inline><li>3</li><li>4</li><li>2</li><li>2</li><li>5</li><li>4</li><li>3</li><li>2</li><li>1</li><li>1</li><li>2</li><li>2</li><li>3</li><li>3</li><li>4</li><li>1</li><li>1</li><li>3</li><li>1</li><li>4</li><li>5</li><li>2</li><li>1</li><li>5</li><li>1</li><li>2</li><li>1</li><li>5</li><li>2</li><li>5</li><li>4</li><li>5</li><li>4</li><li>4</li><li>5</li><li>1</li><li>4</li><li>5</li><li>4</li><li>4</li><li>4</li><li>1</li><li>1</li><li>4</li><li>4</li><li>4</li><li>2</li><li>5</li><li>1</li><li>2</li></ol>\n"
            ],
            "text/markdown": "1. 3\n2. 4\n3. 2\n4. 2\n5. 5\n6. 4\n7. 3\n8. 2\n9. 1\n10. 1\n11. 2\n12. 2\n13. 3\n14. 3\n15. 4\n16. 1\n17. 1\n18. 3\n19. 1\n20. 4\n21. 5\n22. 2\n23. 1\n24. 5\n25. 1\n26. 2\n27. 1\n28. 5\n29. 2\n30. 5\n31. 4\n32. 5\n33. 4\n34. 4\n35. 5\n36. 1\n37. 4\n38. 5\n39. 4\n40. 4\n41. 4\n42. 1\n43. 1\n44. 4\n45. 4\n46. 4\n47. 2\n48. 5\n49. 1\n50. 2\n\n\n",
            "text/latex": "\\begin{enumerate*}\n\\item 3\n\\item 4\n\\item 2\n\\item 2\n\\item 5\n\\item 4\n\\item 3\n\\item 2\n\\item 1\n\\item 1\n\\item 2\n\\item 2\n\\item 3\n\\item 3\n\\item 4\n\\item 1\n\\item 1\n\\item 3\n\\item 1\n\\item 4\n\\item 5\n\\item 2\n\\item 1\n\\item 5\n\\item 1\n\\item 2\n\\item 1\n\\item 5\n\\item 2\n\\item 5\n\\item 4\n\\item 5\n\\item 4\n\\item 4\n\\item 5\n\\item 1\n\\item 4\n\\item 5\n\\item 4\n\\item 4\n\\item 4\n\\item 1\n\\item 1\n\\item 4\n\\item 4\n\\item 4\n\\item 2\n\\item 5\n\\item 1\n\\item 2\n\\end{enumerate*}\n",
            "text/plain": [
              " [1] 3 4 2 2 5 4 3 2 1 1 2 2 3 3 4 1 1 3 1 4 5 2 1 5 1 2 1 5 2 5 4 5 4 4 5 1 4 5\n",
              "[39] 4 4 4 1 1 4 4 4 2 5 1 2"
            ]
          },
          "metadata": {}
        },
        {
          "output_type": "stream",
          "name": "stdout",
          "text": [
            "'data.frame':\t50 obs. of  11 variables:\n",
            " $ Customer_ID        : chr  \"CUST-001\" \"CUST-002\" \"CUST-003\" \"CUST-004\" ...\n",
            " $ Nama.Pelanggan     : chr  \"Budi Anggara\" \"Shirley Ratuwati\" \"Agus Cahyono\" \"Antonius Winarta\" ...\n",
            " $ Jenis.Kelamin      : chr  \"Pria\" \"Wanita\" \"Pria\" \"Pria\" ...\n",
            " $ Umur               : int  58 14 48 53 41 24 64 52 29 33 ...\n",
            " $ Profesi            : chr  \"Wiraswasta\" \"Pelajar\" \"Professional\" \"Professional\" ...\n",
            " $ Tipe.Residen       : chr  \"Sector\" \"Cluster\" \"Cluster\" \"Cluster\" ...\n",
            " $ NilaiBelanjaSetahun: num  9.5 2.72 5.29 5.2 10.62 ...\n",
            " $ Jenis.Kelamin.1    : int  1 2 1 1 2 2 1 1 2 1 ...\n",
            " $ Profesi.1          : int  5 3 4 4 5 4 5 4 4 4 ...\n",
            " $ Tipe.Residen.1     : int  2 1 1 1 1 1 2 1 2 1 ...\n",
            " $ cluster            : int  3 4 2 2 5 4 3 2 1 1 ...\n"
          ]
        }
      ]
    },
    {
      "cell_type": "code",
      "source": [
        "#Filter cluster ke-1\n",
        "which(pelanggan$cluster == 1)\n",
        "length(which(pelanggan$cluster == 1))"
      ],
      "metadata": {
        "colab": {
          "base_uri": "https://localhost:8080/",
          "height": 52
        },
        "id": "LHqA58jXpsYx",
        "outputId": "8c736ede-08b2-4c1f-dddf-0b4d41ee2a15"
      },
      "execution_count": 26,
      "outputs": [
        {
          "output_type": "display_data",
          "data": {
            "text/html": [
              "<style>\n",
              ".list-inline {list-style: none; margin:0; padding: 0}\n",
              ".list-inline>li {display: inline-block}\n",
              ".list-inline>li:not(:last-child)::after {content: \"\\00b7\"; padding: 0 .5ex}\n",
              "</style>\n",
              "<ol class=list-inline><li>9</li><li>10</li><li>16</li><li>17</li><li>19</li><li>23</li><li>25</li><li>27</li><li>36</li><li>42</li><li>43</li><li>49</li></ol>\n"
            ],
            "text/markdown": "1. 9\n2. 10\n3. 16\n4. 17\n5. 19\n6. 23\n7. 25\n8. 27\n9. 36\n10. 42\n11. 43\n12. 49\n\n\n",
            "text/latex": "\\begin{enumerate*}\n\\item 9\n\\item 10\n\\item 16\n\\item 17\n\\item 19\n\\item 23\n\\item 25\n\\item 27\n\\item 36\n\\item 42\n\\item 43\n\\item 49\n\\end{enumerate*}\n",
            "text/plain": [
              " [1]  9 10 16 17 19 23 25 27 36 42 43 49"
            ]
          },
          "metadata": {}
        },
        {
          "output_type": "display_data",
          "data": {
            "text/html": [
              "12"
            ],
            "text/markdown": "12",
            "text/latex": "12",
            "text/plain": [
              "[1] 12"
            ]
          },
          "metadata": {}
        }
      ]
    },
    {
      "cell_type": "code",
      "source": [
        "#Melihat data pada cluster ke-N\n",
        "pelanggan[which(pelanggan$cluster == 3),]\n",
        "pelanggan[which(pelanggan$cluster == 4),]\n",
        "pelanggan[which(pelanggan$cluster == 5),]"
      ],
      "metadata": {
        "colab": {
          "base_uri": "https://localhost:8080/",
          "height": 1000
        },
        "id": "vSW1HaTNqB_w",
        "outputId": "81172864-036a-44b0-aef4-a8e8fb08712b"
      },
      "execution_count": 27,
      "outputs": [
        {
          "output_type": "display_data",
          "data": {
            "text/html": [
              "<table class=\"dataframe\">\n",
              "<caption>A data.frame: 5 × 11</caption>\n",
              "<thead>\n",
              "\t<tr><th></th><th scope=col>Customer_ID</th><th scope=col>Nama.Pelanggan</th><th scope=col>Jenis.Kelamin</th><th scope=col>Umur</th><th scope=col>Profesi</th><th scope=col>Tipe.Residen</th><th scope=col>NilaiBelanjaSetahun</th><th scope=col>Jenis.Kelamin.1</th><th scope=col>Profesi.1</th><th scope=col>Tipe.Residen.1</th><th scope=col>cluster</th></tr>\n",
              "\t<tr><th></th><th scope=col>&lt;chr&gt;</th><th scope=col>&lt;chr&gt;</th><th scope=col>&lt;chr&gt;</th><th scope=col>&lt;int&gt;</th><th scope=col>&lt;chr&gt;</th><th scope=col>&lt;chr&gt;</th><th scope=col>&lt;dbl&gt;</th><th scope=col>&lt;int&gt;</th><th scope=col>&lt;int&gt;</th><th scope=col>&lt;int&gt;</th><th scope=col>&lt;int&gt;</th></tr>\n",
              "</thead>\n",
              "<tbody>\n",
              "\t<tr><th scope=row>1</th><td>CUST-001</td><td>Budi Anggara  </td><td>Pria  </td><td>58</td><td>Wiraswasta      </td><td>Sector </td><td>9.497927</td><td>1</td><td>5</td><td>2</td><td>3</td></tr>\n",
              "\t<tr><th scope=row>7</th><td>CUST-007</td><td>Cahyono, Agus </td><td>Pria  </td><td>64</td><td>Wiraswasta      </td><td>Sector </td><td>9.837260</td><td>1</td><td>5</td><td>2</td><td>3</td></tr>\n",
              "\t<tr><th scope=row>13</th><td>CUST-013</td><td>Cahaya Putri  </td><td>Wanita</td><td>64</td><td>Wiraswasta      </td><td>Cluster</td><td>9.333168</td><td>2</td><td>5</td><td>1</td><td>3</td></tr>\n",
              "\t<tr><th scope=row>14</th><td>CUST-014</td><td>Mario Setiawan</td><td>Pria  </td><td>60</td><td>Wiraswasta      </td><td>Cluster</td><td>9.471615</td><td>1</td><td>5</td><td>1</td><td>3</td></tr>\n",
              "\t<tr><th scope=row>18</th><td>CUST-018</td><td>Nelly Halim   </td><td>Wanita</td><td>63</td><td>Ibu Rumah Tangga</td><td>Cluster</td><td>5.340690</td><td>2</td><td>1</td><td>1</td><td>3</td></tr>\n",
              "</tbody>\n",
              "</table>\n"
            ],
            "text/markdown": "\nA data.frame: 5 × 11\n\n| <!--/--> | Customer_ID &lt;chr&gt; | Nama.Pelanggan &lt;chr&gt; | Jenis.Kelamin &lt;chr&gt; | Umur &lt;int&gt; | Profesi &lt;chr&gt; | Tipe.Residen &lt;chr&gt; | NilaiBelanjaSetahun &lt;dbl&gt; | Jenis.Kelamin.1 &lt;int&gt; | Profesi.1 &lt;int&gt; | Tipe.Residen.1 &lt;int&gt; | cluster &lt;int&gt; |\n|---|---|---|---|---|---|---|---|---|---|---|---|\n| 1 | CUST-001 | Budi Anggara   | Pria   | 58 | Wiraswasta       | Sector  | 9.497927 | 1 | 5 | 2 | 3 |\n| 7 | CUST-007 | Cahyono, Agus  | Pria   | 64 | Wiraswasta       | Sector  | 9.837260 | 1 | 5 | 2 | 3 |\n| 13 | CUST-013 | Cahaya Putri   | Wanita | 64 | Wiraswasta       | Cluster | 9.333168 | 2 | 5 | 1 | 3 |\n| 14 | CUST-014 | Mario Setiawan | Pria   | 60 | Wiraswasta       | Cluster | 9.471615 | 1 | 5 | 1 | 3 |\n| 18 | CUST-018 | Nelly Halim    | Wanita | 63 | Ibu Rumah Tangga | Cluster | 5.340690 | 2 | 1 | 1 | 3 |\n\n",
            "text/latex": "A data.frame: 5 × 11\n\\begin{tabular}{r|lllllllllll}\n  & Customer\\_ID & Nama.Pelanggan & Jenis.Kelamin & Umur & Profesi & Tipe.Residen & NilaiBelanjaSetahun & Jenis.Kelamin.1 & Profesi.1 & Tipe.Residen.1 & cluster\\\\\n  & <chr> & <chr> & <chr> & <int> & <chr> & <chr> & <dbl> & <int> & <int> & <int> & <int>\\\\\n\\hline\n\t1 & CUST-001 & Budi Anggara   & Pria   & 58 & Wiraswasta       & Sector  & 9.497927 & 1 & 5 & 2 & 3\\\\\n\t7 & CUST-007 & Cahyono, Agus  & Pria   & 64 & Wiraswasta       & Sector  & 9.837260 & 1 & 5 & 2 & 3\\\\\n\t13 & CUST-013 & Cahaya Putri   & Wanita & 64 & Wiraswasta       & Cluster & 9.333168 & 2 & 5 & 1 & 3\\\\\n\t14 & CUST-014 & Mario Setiawan & Pria   & 60 & Wiraswasta       & Cluster & 9.471615 & 1 & 5 & 1 & 3\\\\\n\t18 & CUST-018 & Nelly Halim    & Wanita & 63 & Ibu Rumah Tangga & Cluster & 5.340690 & 2 & 1 & 1 & 3\\\\\n\\end{tabular}\n",
            "text/plain": [
              "   Customer_ID Nama.Pelanggan Jenis.Kelamin Umur Profesi          Tipe.Residen\n",
              "1  CUST-001    Budi Anggara   Pria          58   Wiraswasta       Sector      \n",
              "7  CUST-007    Cahyono, Agus  Pria          64   Wiraswasta       Sector      \n",
              "13 CUST-013    Cahaya Putri   Wanita        64   Wiraswasta       Cluster     \n",
              "14 CUST-014    Mario Setiawan Pria          60   Wiraswasta       Cluster     \n",
              "18 CUST-018    Nelly Halim    Wanita        63   Ibu Rumah Tangga Cluster     \n",
              "   NilaiBelanjaSetahun Jenis.Kelamin.1 Profesi.1 Tipe.Residen.1 cluster\n",
              "1  9.497927            1               5         2              3      \n",
              "7  9.837260            1               5         2              3      \n",
              "13 9.333168            2               5         1              3      \n",
              "14 9.471615            1               5         1              3      \n",
              "18 5.340690            2               1         1              3      "
            ]
          },
          "metadata": {}
        },
        {
          "output_type": "display_data",
          "data": {
            "text/html": [
              "<table class=\"dataframe\">\n",
              "<caption>A data.frame: 14 × 11</caption>\n",
              "<thead>\n",
              "\t<tr><th></th><th scope=col>Customer_ID</th><th scope=col>Nama.Pelanggan</th><th scope=col>Jenis.Kelamin</th><th scope=col>Umur</th><th scope=col>Profesi</th><th scope=col>Tipe.Residen</th><th scope=col>NilaiBelanjaSetahun</th><th scope=col>Jenis.Kelamin.1</th><th scope=col>Profesi.1</th><th scope=col>Tipe.Residen.1</th><th scope=col>cluster</th></tr>\n",
              "\t<tr><th></th><th scope=col>&lt;chr&gt;</th><th scope=col>&lt;chr&gt;</th><th scope=col>&lt;chr&gt;</th><th scope=col>&lt;int&gt;</th><th scope=col>&lt;chr&gt;</th><th scope=col>&lt;chr&gt;</th><th scope=col>&lt;dbl&gt;</th><th scope=col>&lt;int&gt;</th><th scope=col>&lt;int&gt;</th><th scope=col>&lt;int&gt;</th><th scope=col>&lt;int&gt;</th></tr>\n",
              "</thead>\n",
              "<tbody>\n",
              "\t<tr><th scope=row>2</th><td>CUST-002</td><td>Shirley Ratuwati</td><td>Wanita</td><td>14</td><td>Pelajar         </td><td>Cluster</td><td> 2.722700</td><td>2</td><td>3</td><td>1</td><td>4</td></tr>\n",
              "\t<tr><th scope=row>6</th><td>CUST-006</td><td>Rosalina Kurnia </td><td>Wanita</td><td>24</td><td>Professional    </td><td>Cluster</td><td> 5.215541</td><td>2</td><td>4</td><td>1</td><td>4</td></tr>\n",
              "\t<tr><th scope=row>15</th><td>CUST-015</td><td>Shirley Ratuwati</td><td>Wanita</td><td>20</td><td>Wiraswasta      </td><td>Cluster</td><td>10.365668</td><td>2</td><td>5</td><td>1</td><td>4</td></tr>\n",
              "\t<tr><th scope=row>20</th><td>CUST-020</td><td>Irene Novianto  </td><td>Wanita</td><td>16</td><td>Pelajar         </td><td>Sector </td><td> 2.896845</td><td>2</td><td>3</td><td>2</td><td>4</td></tr>\n",
              "\t<tr><th scope=row>31</th><td>CUST-031</td><td>Eviana Handry   </td><td>Wanita</td><td>19</td><td>Mahasiswa       </td><td>Cluster</td><td> 3.042773</td><td>2</td><td>2</td><td>1</td><td>4</td></tr>\n",
              "\t<tr><th scope=row>33</th><td>CUST-033</td><td>Cecilia Kusnadi </td><td>Wanita</td><td>19</td><td>Mahasiswa       </td><td>Cluster</td><td> 3.047926</td><td>2</td><td>2</td><td>1</td><td>4</td></tr>\n",
              "\t<tr><th scope=row>34</th><td>CUST-034</td><td>Deasy Arisandi  </td><td>Wanita</td><td>21</td><td>Wiraswasta      </td><td>Sector </td><td> 9.759822</td><td>2</td><td>5</td><td>2</td><td>4</td></tr>\n",
              "\t<tr><th scope=row>37</th><td>CUST-037</td><td>Felicia Tandiono</td><td>Wanita</td><td>25</td><td>Professional    </td><td>Sector </td><td> 5.972787</td><td>2</td><td>4</td><td>2</td><td>4</td></tr>\n",
              "\t<tr><th scope=row>39</th><td>CUST-039</td><td>Gina Hidayat    </td><td>Wanita</td><td>20</td><td>Professional    </td><td>Cluster</td><td> 5.257775</td><td>2</td><td>4</td><td>1</td><td>4</td></tr>\n",
              "\t<tr><th scope=row>40</th><td>CUST-040</td><td>Irene Darmawan  </td><td>Wanita</td><td>14</td><td>Pelajar         </td><td>Sector </td><td> 2.861855</td><td>2</td><td>3</td><td>2</td><td>4</td></tr>\n",
              "\t<tr><th scope=row>41</th><td>CUST-041</td><td>Shinta Aritonang</td><td>Wanita</td><td>24</td><td>Ibu Rumah Tangga</td><td>Cluster</td><td> 6.820976</td><td>2</td><td>1</td><td>1</td><td>4</td></tr>\n",
              "\t<tr><th scope=row>44</th><td>CUST-044</td><td>Anna            </td><td>Wanita</td><td>18</td><td>Wiraswasta      </td><td>Cluster</td><td> 9.339737</td><td>2</td><td>5</td><td>1</td><td>4</td></tr>\n",
              "\t<tr><th scope=row>45</th><td>CUST-045</td><td>Rismawati Juni  </td><td>Wanita</td><td>22</td><td>Professional    </td><td>Cluster</td><td> 5.211041</td><td>2</td><td>4</td><td>1</td><td>4</td></tr>\n",
              "\t<tr><th scope=row>46</th><td>CUST-046</td><td>Elfira Surya    </td><td>Wanita</td><td>25</td><td>Wiraswasta      </td><td>Sector </td><td>10.099807</td><td>2</td><td>5</td><td>2</td><td>4</td></tr>\n",
              "</tbody>\n",
              "</table>\n"
            ],
            "text/markdown": "\nA data.frame: 14 × 11\n\n| <!--/--> | Customer_ID &lt;chr&gt; | Nama.Pelanggan &lt;chr&gt; | Jenis.Kelamin &lt;chr&gt; | Umur &lt;int&gt; | Profesi &lt;chr&gt; | Tipe.Residen &lt;chr&gt; | NilaiBelanjaSetahun &lt;dbl&gt; | Jenis.Kelamin.1 &lt;int&gt; | Profesi.1 &lt;int&gt; | Tipe.Residen.1 &lt;int&gt; | cluster &lt;int&gt; |\n|---|---|---|---|---|---|---|---|---|---|---|---|\n| 2 | CUST-002 | Shirley Ratuwati | Wanita | 14 | Pelajar          | Cluster |  2.722700 | 2 | 3 | 1 | 4 |\n| 6 | CUST-006 | Rosalina Kurnia  | Wanita | 24 | Professional     | Cluster |  5.215541 | 2 | 4 | 1 | 4 |\n| 15 | CUST-015 | Shirley Ratuwati | Wanita | 20 | Wiraswasta       | Cluster | 10.365668 | 2 | 5 | 1 | 4 |\n| 20 | CUST-020 | Irene Novianto   | Wanita | 16 | Pelajar          | Sector  |  2.896845 | 2 | 3 | 2 | 4 |\n| 31 | CUST-031 | Eviana Handry    | Wanita | 19 | Mahasiswa        | Cluster |  3.042773 | 2 | 2 | 1 | 4 |\n| 33 | CUST-033 | Cecilia Kusnadi  | Wanita | 19 | Mahasiswa        | Cluster |  3.047926 | 2 | 2 | 1 | 4 |\n| 34 | CUST-034 | Deasy Arisandi   | Wanita | 21 | Wiraswasta       | Sector  |  9.759822 | 2 | 5 | 2 | 4 |\n| 37 | CUST-037 | Felicia Tandiono | Wanita | 25 | Professional     | Sector  |  5.972787 | 2 | 4 | 2 | 4 |\n| 39 | CUST-039 | Gina Hidayat     | Wanita | 20 | Professional     | Cluster |  5.257775 | 2 | 4 | 1 | 4 |\n| 40 | CUST-040 | Irene Darmawan   | Wanita | 14 | Pelajar          | Sector  |  2.861855 | 2 | 3 | 2 | 4 |\n| 41 | CUST-041 | Shinta Aritonang | Wanita | 24 | Ibu Rumah Tangga | Cluster |  6.820976 | 2 | 1 | 1 | 4 |\n| 44 | CUST-044 | Anna             | Wanita | 18 | Wiraswasta       | Cluster |  9.339737 | 2 | 5 | 1 | 4 |\n| 45 | CUST-045 | Rismawati Juni   | Wanita | 22 | Professional     | Cluster |  5.211041 | 2 | 4 | 1 | 4 |\n| 46 | CUST-046 | Elfira Surya     | Wanita | 25 | Wiraswasta       | Sector  | 10.099807 | 2 | 5 | 2 | 4 |\n\n",
            "text/latex": "A data.frame: 14 × 11\n\\begin{tabular}{r|lllllllllll}\n  & Customer\\_ID & Nama.Pelanggan & Jenis.Kelamin & Umur & Profesi & Tipe.Residen & NilaiBelanjaSetahun & Jenis.Kelamin.1 & Profesi.1 & Tipe.Residen.1 & cluster\\\\\n  & <chr> & <chr> & <chr> & <int> & <chr> & <chr> & <dbl> & <int> & <int> & <int> & <int>\\\\\n\\hline\n\t2 & CUST-002 & Shirley Ratuwati & Wanita & 14 & Pelajar          & Cluster &  2.722700 & 2 & 3 & 1 & 4\\\\\n\t6 & CUST-006 & Rosalina Kurnia  & Wanita & 24 & Professional     & Cluster &  5.215541 & 2 & 4 & 1 & 4\\\\\n\t15 & CUST-015 & Shirley Ratuwati & Wanita & 20 & Wiraswasta       & Cluster & 10.365668 & 2 & 5 & 1 & 4\\\\\n\t20 & CUST-020 & Irene Novianto   & Wanita & 16 & Pelajar          & Sector  &  2.896845 & 2 & 3 & 2 & 4\\\\\n\t31 & CUST-031 & Eviana Handry    & Wanita & 19 & Mahasiswa        & Cluster &  3.042773 & 2 & 2 & 1 & 4\\\\\n\t33 & CUST-033 & Cecilia Kusnadi  & Wanita & 19 & Mahasiswa        & Cluster &  3.047926 & 2 & 2 & 1 & 4\\\\\n\t34 & CUST-034 & Deasy Arisandi   & Wanita & 21 & Wiraswasta       & Sector  &  9.759822 & 2 & 5 & 2 & 4\\\\\n\t37 & CUST-037 & Felicia Tandiono & Wanita & 25 & Professional     & Sector  &  5.972787 & 2 & 4 & 2 & 4\\\\\n\t39 & CUST-039 & Gina Hidayat     & Wanita & 20 & Professional     & Cluster &  5.257775 & 2 & 4 & 1 & 4\\\\\n\t40 & CUST-040 & Irene Darmawan   & Wanita & 14 & Pelajar          & Sector  &  2.861855 & 2 & 3 & 2 & 4\\\\\n\t41 & CUST-041 & Shinta Aritonang & Wanita & 24 & Ibu Rumah Tangga & Cluster &  6.820976 & 2 & 1 & 1 & 4\\\\\n\t44 & CUST-044 & Anna             & Wanita & 18 & Wiraswasta       & Cluster &  9.339737 & 2 & 5 & 1 & 4\\\\\n\t45 & CUST-045 & Rismawati Juni   & Wanita & 22 & Professional     & Cluster &  5.211041 & 2 & 4 & 1 & 4\\\\\n\t46 & CUST-046 & Elfira Surya     & Wanita & 25 & Wiraswasta       & Sector  & 10.099807 & 2 & 5 & 2 & 4\\\\\n\\end{tabular}\n",
            "text/plain": [
              "   Customer_ID Nama.Pelanggan   Jenis.Kelamin Umur Profesi         \n",
              "2  CUST-002    Shirley Ratuwati Wanita        14   Pelajar         \n",
              "6  CUST-006    Rosalina Kurnia  Wanita        24   Professional    \n",
              "15 CUST-015    Shirley Ratuwati Wanita        20   Wiraswasta      \n",
              "20 CUST-020    Irene Novianto   Wanita        16   Pelajar         \n",
              "31 CUST-031    Eviana Handry    Wanita        19   Mahasiswa       \n",
              "33 CUST-033    Cecilia Kusnadi  Wanita        19   Mahasiswa       \n",
              "34 CUST-034    Deasy Arisandi   Wanita        21   Wiraswasta      \n",
              "37 CUST-037    Felicia Tandiono Wanita        25   Professional    \n",
              "39 CUST-039    Gina Hidayat     Wanita        20   Professional    \n",
              "40 CUST-040    Irene Darmawan   Wanita        14   Pelajar         \n",
              "41 CUST-041    Shinta Aritonang Wanita        24   Ibu Rumah Tangga\n",
              "44 CUST-044    Anna             Wanita        18   Wiraswasta      \n",
              "45 CUST-045    Rismawati Juni   Wanita        22   Professional    \n",
              "46 CUST-046    Elfira Surya     Wanita        25   Wiraswasta      \n",
              "   Tipe.Residen NilaiBelanjaSetahun Jenis.Kelamin.1 Profesi.1 Tipe.Residen.1\n",
              "2  Cluster       2.722700           2               3         1             \n",
              "6  Cluster       5.215541           2               4         1             \n",
              "15 Cluster      10.365668           2               5         1             \n",
              "20 Sector        2.896845           2               3         2             \n",
              "31 Cluster       3.042773           2               2         1             \n",
              "33 Cluster       3.047926           2               2         1             \n",
              "34 Sector        9.759822           2               5         2             \n",
              "37 Sector        5.972787           2               4         2             \n",
              "39 Cluster       5.257775           2               4         1             \n",
              "40 Sector        2.861855           2               3         2             \n",
              "41 Cluster       6.820976           2               1         1             \n",
              "44 Cluster       9.339737           2               5         1             \n",
              "45 Cluster       5.211041           2               4         1             \n",
              "46 Sector       10.099807           2               5         2             \n",
              "   cluster\n",
              "2  4      \n",
              "6  4      \n",
              "15 4      \n",
              "20 4      \n",
              "31 4      \n",
              "33 4      \n",
              "34 4      \n",
              "37 4      \n",
              "39 4      \n",
              "40 4      \n",
              "41 4      \n",
              "44 4      \n",
              "45 4      \n",
              "46 4      "
            ]
          },
          "metadata": {}
        },
        {
          "output_type": "display_data",
          "data": {
            "text/html": [
              "<table class=\"dataframe\">\n",
              "<caption>A data.frame: 9 × 11</caption>\n",
              "<thead>\n",
              "\t<tr><th></th><th scope=col>Customer_ID</th><th scope=col>Nama.Pelanggan</th><th scope=col>Jenis.Kelamin</th><th scope=col>Umur</th><th scope=col>Profesi</th><th scope=col>Tipe.Residen</th><th scope=col>NilaiBelanjaSetahun</th><th scope=col>Jenis.Kelamin.1</th><th scope=col>Profesi.1</th><th scope=col>Tipe.Residen.1</th><th scope=col>cluster</th></tr>\n",
              "\t<tr><th></th><th scope=col>&lt;chr&gt;</th><th scope=col>&lt;chr&gt;</th><th scope=col>&lt;chr&gt;</th><th scope=col>&lt;int&gt;</th><th scope=col>&lt;chr&gt;</th><th scope=col>&lt;chr&gt;</th><th scope=col>&lt;dbl&gt;</th><th scope=col>&lt;int&gt;</th><th scope=col>&lt;int&gt;</th><th scope=col>&lt;int&gt;</th><th scope=col>&lt;int&gt;</th></tr>\n",
              "</thead>\n",
              "<tbody>\n",
              "\t<tr><th scope=row>5</th><td>CUST-005</td><td>Ibu Sri Wahyuni, IR</td><td>Wanita</td><td>41</td><td>Wiraswasta      </td><td>Cluster</td><td>10.615206</td><td>2</td><td>5</td><td>1</td><td>5</td></tr>\n",
              "\t<tr><th scope=row>21</th><td>CUST-021</td><td>Lestari Fabianto   </td><td>Wanita</td><td>38</td><td>Wiraswasta      </td><td>Cluster</td><td> 9.222070</td><td>2</td><td>5</td><td>1</td><td>5</td></tr>\n",
              "\t<tr><th scope=row>24</th><td>CUST-024</td><td>Putri Ginting      </td><td>Wanita</td><td>39</td><td>Wiraswasta      </td><td>Cluster</td><td>10.259572</td><td>2</td><td>5</td><td>1</td><td>5</td></tr>\n",
              "\t<tr><th scope=row>28</th><td>CUST-028</td><td>Adeline Huang      </td><td>Wanita</td><td>40</td><td>Ibu Rumah Tangga</td><td>Cluster</td><td> 6.631680</td><td>2</td><td>1</td><td>1</td><td>5</td></tr>\n",
              "\t<tr><th scope=row>30</th><td>CUST-030</td><td>Rosita Saragih     </td><td>Wanita</td><td>46</td><td>Ibu Rumah Tangga</td><td>Sector </td><td> 5.020976</td><td>2</td><td>1</td><td>2</td><td>5</td></tr>\n",
              "\t<tr><th scope=row>32</th><td>CUST-032</td><td>Chintya Winarni    </td><td>Wanita</td><td>47</td><td>Wiraswasta      </td><td>Sector </td><td>10.663179</td><td>2</td><td>5</td><td>2</td><td>5</td></tr>\n",
              "\t<tr><th scope=row>35</th><td>CUST-035</td><td>Ida Ayu            </td><td>Wanita</td><td>39</td><td>Professional    </td><td>Sector </td><td> 5.962575</td><td>2</td><td>4</td><td>2</td><td>5</td></tr>\n",
              "\t<tr><th scope=row>38</th><td>CUST-038</td><td>Agatha Salim       </td><td>Wanita</td><td>46</td><td>Wiraswasta      </td><td>Sector </td><td>10.477127</td><td>2</td><td>5</td><td>2</td><td>5</td></tr>\n",
              "\t<tr><th scope=row>48</th><td>CUST-048</td><td>Maria Hutagalung   </td><td>Wanita</td><td>45</td><td>Wiraswasta      </td><td>Sector </td><td>10.390732</td><td>2</td><td>5</td><td>2</td><td>5</td></tr>\n",
              "</tbody>\n",
              "</table>\n"
            ],
            "text/markdown": "\nA data.frame: 9 × 11\n\n| <!--/--> | Customer_ID &lt;chr&gt; | Nama.Pelanggan &lt;chr&gt; | Jenis.Kelamin &lt;chr&gt; | Umur &lt;int&gt; | Profesi &lt;chr&gt; | Tipe.Residen &lt;chr&gt; | NilaiBelanjaSetahun &lt;dbl&gt; | Jenis.Kelamin.1 &lt;int&gt; | Profesi.1 &lt;int&gt; | Tipe.Residen.1 &lt;int&gt; | cluster &lt;int&gt; |\n|---|---|---|---|---|---|---|---|---|---|---|---|\n| 5 | CUST-005 | Ibu Sri Wahyuni, IR | Wanita | 41 | Wiraswasta       | Cluster | 10.615206 | 2 | 5 | 1 | 5 |\n| 21 | CUST-021 | Lestari Fabianto    | Wanita | 38 | Wiraswasta       | Cluster |  9.222070 | 2 | 5 | 1 | 5 |\n| 24 | CUST-024 | Putri Ginting       | Wanita | 39 | Wiraswasta       | Cluster | 10.259572 | 2 | 5 | 1 | 5 |\n| 28 | CUST-028 | Adeline Huang       | Wanita | 40 | Ibu Rumah Tangga | Cluster |  6.631680 | 2 | 1 | 1 | 5 |\n| 30 | CUST-030 | Rosita Saragih      | Wanita | 46 | Ibu Rumah Tangga | Sector  |  5.020976 | 2 | 1 | 2 | 5 |\n| 32 | CUST-032 | Chintya Winarni     | Wanita | 47 | Wiraswasta       | Sector  | 10.663179 | 2 | 5 | 2 | 5 |\n| 35 | CUST-035 | Ida Ayu             | Wanita | 39 | Professional     | Sector  |  5.962575 | 2 | 4 | 2 | 5 |\n| 38 | CUST-038 | Agatha Salim        | Wanita | 46 | Wiraswasta       | Sector  | 10.477127 | 2 | 5 | 2 | 5 |\n| 48 | CUST-048 | Maria Hutagalung    | Wanita | 45 | Wiraswasta       | Sector  | 10.390732 | 2 | 5 | 2 | 5 |\n\n",
            "text/latex": "A data.frame: 9 × 11\n\\begin{tabular}{r|lllllllllll}\n  & Customer\\_ID & Nama.Pelanggan & Jenis.Kelamin & Umur & Profesi & Tipe.Residen & NilaiBelanjaSetahun & Jenis.Kelamin.1 & Profesi.1 & Tipe.Residen.1 & cluster\\\\\n  & <chr> & <chr> & <chr> & <int> & <chr> & <chr> & <dbl> & <int> & <int> & <int> & <int>\\\\\n\\hline\n\t5 & CUST-005 & Ibu Sri Wahyuni, IR & Wanita & 41 & Wiraswasta       & Cluster & 10.615206 & 2 & 5 & 1 & 5\\\\\n\t21 & CUST-021 & Lestari Fabianto    & Wanita & 38 & Wiraswasta       & Cluster &  9.222070 & 2 & 5 & 1 & 5\\\\\n\t24 & CUST-024 & Putri Ginting       & Wanita & 39 & Wiraswasta       & Cluster & 10.259572 & 2 & 5 & 1 & 5\\\\\n\t28 & CUST-028 & Adeline Huang       & Wanita & 40 & Ibu Rumah Tangga & Cluster &  6.631680 & 2 & 1 & 1 & 5\\\\\n\t30 & CUST-030 & Rosita Saragih      & Wanita & 46 & Ibu Rumah Tangga & Sector  &  5.020976 & 2 & 1 & 2 & 5\\\\\n\t32 & CUST-032 & Chintya Winarni     & Wanita & 47 & Wiraswasta       & Sector  & 10.663179 & 2 & 5 & 2 & 5\\\\\n\t35 & CUST-035 & Ida Ayu             & Wanita & 39 & Professional     & Sector  &  5.962575 & 2 & 4 & 2 & 5\\\\\n\t38 & CUST-038 & Agatha Salim        & Wanita & 46 & Wiraswasta       & Sector  & 10.477127 & 2 & 5 & 2 & 5\\\\\n\t48 & CUST-048 & Maria Hutagalung    & Wanita & 45 & Wiraswasta       & Sector  & 10.390732 & 2 & 5 & 2 & 5\\\\\n\\end{tabular}\n",
            "text/plain": [
              "   Customer_ID Nama.Pelanggan      Jenis.Kelamin Umur Profesi         \n",
              "5  CUST-005    Ibu Sri Wahyuni, IR Wanita        41   Wiraswasta      \n",
              "21 CUST-021    Lestari Fabianto    Wanita        38   Wiraswasta      \n",
              "24 CUST-024    Putri Ginting       Wanita        39   Wiraswasta      \n",
              "28 CUST-028    Adeline Huang       Wanita        40   Ibu Rumah Tangga\n",
              "30 CUST-030    Rosita Saragih      Wanita        46   Ibu Rumah Tangga\n",
              "32 CUST-032    Chintya Winarni     Wanita        47   Wiraswasta      \n",
              "35 CUST-035    Ida Ayu             Wanita        39   Professional    \n",
              "38 CUST-038    Agatha Salim        Wanita        46   Wiraswasta      \n",
              "48 CUST-048    Maria Hutagalung    Wanita        45   Wiraswasta      \n",
              "   Tipe.Residen NilaiBelanjaSetahun Jenis.Kelamin.1 Profesi.1 Tipe.Residen.1\n",
              "5  Cluster      10.615206           2               5         1             \n",
              "21 Cluster       9.222070           2               5         1             \n",
              "24 Cluster      10.259572           2               5         1             \n",
              "28 Cluster       6.631680           2               1         1             \n",
              "30 Sector        5.020976           2               1         2             \n",
              "32 Sector       10.663179           2               5         2             \n",
              "35 Sector        5.962575           2               4         2             \n",
              "38 Sector       10.477127           2               5         2             \n",
              "48 Sector       10.390732           2               5         2             \n",
              "   cluster\n",
              "5  5      \n",
              "21 5      \n",
              "24 5      \n",
              "28 5      \n",
              "30 5      \n",
              "32 5      \n",
              "35 5      \n",
              "38 5      \n",
              "48 5      "
            ]
          },
          "metadata": {}
        }
      ]
    },
    {
      "cell_type": "code",
      "source": [
        "#Analisa hasil cluster means\n",
        "#Cluster means adalah hasil nilai rata-rata atau titik sentral (centroid) dari seluruh titik tiap cluster.\n",
        "segmentasi$centers"
      ],
      "metadata": {
        "colab": {
          "base_uri": "https://localhost:8080/",
          "height": 223
        },
        "id": "OpDwxwsaqIhp",
        "outputId": "de04bf95-a11a-4f49-ea26-e91685bb69fc"
      },
      "execution_count": 28,
      "outputs": [
        {
          "output_type": "display_data",
          "data": {
            "text/html": [
              "<table class=\"dataframe\">\n",
              "<caption>A matrix: 5 × 5 of type dbl</caption>\n",
              "<thead>\n",
              "\t<tr><th></th><th scope=col>Jenis.Kelamin.1</th><th scope=col>Umur</th><th scope=col>Profesi.1</th><th scope=col>Tipe.Residen.1</th><th scope=col>NilaiBelanjaSetahun</th></tr>\n",
              "</thead>\n",
              "<tbody>\n",
              "\t<tr><th scope=row>1</th><td>1.75</td><td>31.58333</td><td>3.916667</td><td>1.250000</td><td>7.330958</td></tr>\n",
              "\t<tr><th scope=row>2</th><td>1.70</td><td>52.50000</td><td>3.800000</td><td>1.300000</td><td>6.018321</td></tr>\n",
              "\t<tr><th scope=row>3</th><td>1.40</td><td>61.80000</td><td>4.200000</td><td>1.400000</td><td>8.696132</td></tr>\n",
              "\t<tr><th scope=row>4</th><td>2.00</td><td>20.07143</td><td>3.571429</td><td>1.357143</td><td>5.901089</td></tr>\n",
              "\t<tr><th scope=row>5</th><td>2.00</td><td>42.33333</td><td>4.000000</td><td>1.555556</td><td>8.804791</td></tr>\n",
              "</tbody>\n",
              "</table>\n"
            ],
            "text/markdown": "\nA matrix: 5 × 5 of type dbl\n\n| <!--/--> | Jenis.Kelamin.1 | Umur | Profesi.1 | Tipe.Residen.1 | NilaiBelanjaSetahun |\n|---|---|---|---|---|---|\n| 1 | 1.75 | 31.58333 | 3.916667 | 1.250000 | 7.330958 |\n| 2 | 1.70 | 52.50000 | 3.800000 | 1.300000 | 6.018321 |\n| 3 | 1.40 | 61.80000 | 4.200000 | 1.400000 | 8.696132 |\n| 4 | 2.00 | 20.07143 | 3.571429 | 1.357143 | 5.901089 |\n| 5 | 2.00 | 42.33333 | 4.000000 | 1.555556 | 8.804791 |\n\n",
            "text/latex": "A matrix: 5 × 5 of type dbl\n\\begin{tabular}{r|lllll}\n  & Jenis.Kelamin.1 & Umur & Profesi.1 & Tipe.Residen.1 & NilaiBelanjaSetahun\\\\\n\\hline\n\t1 & 1.75 & 31.58333 & 3.916667 & 1.250000 & 7.330958\\\\\n\t2 & 1.70 & 52.50000 & 3.800000 & 1.300000 & 6.018321\\\\\n\t3 & 1.40 & 61.80000 & 4.200000 & 1.400000 & 8.696132\\\\\n\t4 & 2.00 & 20.07143 & 3.571429 & 1.357143 & 5.901089\\\\\n\t5 & 2.00 & 42.33333 & 4.000000 & 1.555556 & 8.804791\\\\\n\\end{tabular}\n",
            "text/plain": [
              "  Jenis.Kelamin.1 Umur     Profesi.1 Tipe.Residen.1 NilaiBelanjaSetahun\n",
              "1 1.75            31.58333 3.916667  1.250000       7.330958           \n",
              "2 1.70            52.50000 3.800000  1.300000       6.018321           \n",
              "3 1.40            61.80000 4.200000  1.400000       8.696132           \n",
              "4 2.00            20.07143 3.571429  1.357143       5.901089           \n",
              "5 2.00            42.33333 4.000000  1.555556       8.804791           "
            ]
          },
          "metadata": {}
        }
      ]
    },
    {
      "cell_type": "code",
      "source": [
        "#Analisa hasil sum of squares\n",
        "#Membandingkan dengan 2 cluster kmeans, masing-masing 2 dan 5\n",
        "set.seed(1)\n",
        "kmeans(x=pelanggan[field_yang_digunakan], centers = 2, nstart = 25)\n",
        "set.seed(1)\n",
        "kmeans(x=pelanggan[field_yang_digunakan], centers = 5, nstart = 25)"
      ],
      "metadata": {
        "colab": {
          "base_uri": "https://localhost:8080/",
          "height": 728
        },
        "id": "ctkzdeQprVBM",
        "outputId": "f35eb588-3207-4829-9d69-d6be8ae06349"
      },
      "execution_count": 30,
      "outputs": [
        {
          "output_type": "display_data",
          "data": {
            "text/plain": [
              "K-means clustering with 2 clusters of sizes 23, 27\n",
              "\n",
              "Cluster means:\n",
              "  Jenis.Kelamin.1     Umur Profesi.1 Tipe.Residen.1 NilaiBelanjaSetahun\n",
              "1        1.739130 51.17391  3.913043       1.434783            7.551518\n",
              "2        1.888889 25.85185  3.777778       1.296296            6.659586\n",
              "\n",
              "Clustering vector:\n",
              " [1] 1 2 1 1 1 2 1 1 2 2 1 1 1 1 2 2 2 1 2 2 2 1 2 1 2 1 2 1 1 1 2 1 2 2 1 2 2 1\n",
              "[39] 2 2 2 2 2 2 2 2 1 1 2 1\n",
              "\n",
              "Within cluster sum of squares by cluster:\n",
              "[1] 1492.481 1524.081\n",
              " (between_SS / total_SS =  72.6 %)\n",
              "\n",
              "Available components:\n",
              "\n",
              "[1] \"cluster\"      \"centers\"      \"totss\"        \"withinss\"     \"tot.withinss\"\n",
              "[6] \"betweenss\"    \"size\"         \"iter\"         \"ifault\"      "
            ]
          },
          "metadata": {}
        },
        {
          "output_type": "display_data",
          "data": {
            "text/plain": [
              "K-means clustering with 5 clusters of sizes 12, 10, 5, 14, 9\n",
              "\n",
              "Cluster means:\n",
              "  Jenis.Kelamin.1     Umur Profesi.1 Tipe.Residen.1 NilaiBelanjaSetahun\n",
              "1            1.75 31.58333  3.916667       1.250000            7.330958\n",
              "2            1.70 52.50000  3.800000       1.300000            6.018321\n",
              "3            1.40 61.80000  4.200000       1.400000            8.696132\n",
              "4            2.00 20.07143  3.571429       1.357143            5.901089\n",
              "5            2.00 42.33333  4.000000       1.555556            8.804791\n",
              "\n",
              "Clustering vector:\n",
              " [1] 3 4 2 2 5 4 3 2 1 1 2 2 3 3 4 1 1 3 1 4 5 2 1 5 1 2 1 5 2 5 4 5 4 4 5 1 4 5\n",
              "[39] 4 4 4 1 1 4 4 4 2 5 1 2\n",
              "\n",
              "Within cluster sum of squares by cluster:\n",
              "[1] 174.85164 108.49735  58.21123 316.73367 171.67372\n",
              " (between_SS / total_SS =  92.4 %)\n",
              "\n",
              "Available components:\n",
              "\n",
              "[1] \"cluster\"      \"centers\"      \"totss\"        \"withinss\"     \"tot.withinss\"\n",
              "[6] \"betweenss\"    \"size\"         \"iter\"         \"ifault\"      "
            ]
          },
          "metadata": {}
        }
      ]
    },
    {
      "cell_type": "code",
      "source": [
        "#Menamakan segmen\n",
        "Segmen.Pelanggan <- data.frame(cluster=c(1,2,3,4,5),Nama.Segmen=c(\"Silver Youth Gals\",\"Diamond Senior Member\",\"Gold Young Professional\",\"Diamond Professional\",\"Silver Mid Professional\"))\n",
        "Segmen.Pelanggan"
      ],
      "metadata": {
        "colab": {
          "base_uri": "https://localhost:8080/",
          "height": 255
        },
        "id": "1yH_UhIgtCGh",
        "outputId": "d07eb8e8-07e3-41ba-b048-1ff2532b2d6f"
      },
      "execution_count": 38,
      "outputs": [
        {
          "output_type": "display_data",
          "data": {
            "text/html": [
              "<table class=\"dataframe\">\n",
              "<caption>A data.frame: 5 × 2</caption>\n",
              "<thead>\n",
              "\t<tr><th scope=col>cluster</th><th scope=col>Nama.Segmen</th></tr>\n",
              "\t<tr><th scope=col>&lt;dbl&gt;</th><th scope=col>&lt;chr&gt;</th></tr>\n",
              "</thead>\n",
              "<tbody>\n",
              "\t<tr><td>1</td><td>Silver Youth Gals      </td></tr>\n",
              "\t<tr><td>2</td><td>Diamond Senior Member  </td></tr>\n",
              "\t<tr><td>3</td><td>Gold Young Professional</td></tr>\n",
              "\t<tr><td>4</td><td>Diamond Professional   </td></tr>\n",
              "\t<tr><td>5</td><td>Silver Mid Professional</td></tr>\n",
              "</tbody>\n",
              "</table>\n"
            ],
            "text/markdown": "\nA data.frame: 5 × 2\n\n| cluster &lt;dbl&gt; | Nama.Segmen &lt;chr&gt; |\n|---|---|\n| 1 | Silver Youth Gals       |\n| 2 | Diamond Senior Member   |\n| 3 | Gold Young Professional |\n| 4 | Diamond Professional    |\n| 5 | Silver Mid Professional |\n\n",
            "text/latex": "A data.frame: 5 × 2\n\\begin{tabular}{ll}\n cluster & Nama.Segmen\\\\\n <dbl> & <chr>\\\\\n\\hline\n\t 1 & Silver Youth Gals      \\\\\n\t 2 & Diamond Senior Member  \\\\\n\t 3 & Gold Young Professional\\\\\n\t 4 & Diamond Professional   \\\\\n\t 5 & Silver Mid Professional\\\\\n\\end{tabular}\n",
            "text/plain": [
              "  cluster Nama.Segmen            \n",
              "1 1       Silver Youth Gals      \n",
              "2 2       Diamond Senior Member  \n",
              "3 3       Gold Young Professional\n",
              "4 4       Diamond Professional   \n",
              "5 5       Silver Mid Professional"
            ]
          },
          "metadata": {}
        }
      ]
    },
    {
      "cell_type": "code",
      "source": [
        "#Menggabungkan refensi\n",
        "Identitas.Cluster <- list(Profesi=Profesi, Jenis.Kelamin=Jenis.Kelamin, Tipe.Residen=Tipe.Residen, Segmentasi=segmentasi, Segmen.Pelanggan=Segmen.Pelanggan, field_yang_digunakan=field_yang_digunakan)\n",
        "Identitas.Cluster"
      ],
      "metadata": {
        "colab": {
          "base_uri": "https://localhost:8080/",
          "height": 937
        },
        "id": "ClloJ_1QtOKQ",
        "outputId": "90d17d8c-194d-47f5-cad2-7918ff859692"
      },
      "execution_count": 40,
      "outputs": [
        {
          "output_type": "display_data",
          "data": {
            "text/plain": [
              "$Profesi\n",
              "            Profesi Profesi.1\n",
              "1        Wiraswasta         5\n",
              "2           Pelajar         3\n",
              "3      Professional         4\n",
              "17 Ibu Rumah Tangga         1\n",
              "31        Mahasiswa         2\n",
              "\n",
              "$Jenis.Kelamin\n",
              "  Jenis.Kelamin Jenis.Kelamin.1\n",
              "1          Pria               1\n",
              "2        Wanita               2\n",
              "\n",
              "$Tipe.Residen\n",
              "  Tipe.Residen Tipe.Residen.1\n",
              "1       Sector              2\n",
              "2      Cluster              1\n",
              "\n",
              "$Segmentasi\n",
              "K-means clustering with 5 clusters of sizes 12, 10, 5, 14, 9\n",
              "\n",
              "Cluster means:\n",
              "  Jenis.Kelamin.1     Umur Profesi.1 Tipe.Residen.1 NilaiBelanjaSetahun\n",
              "1            1.75 31.58333  3.916667       1.250000            7.330958\n",
              "2            1.70 52.50000  3.800000       1.300000            6.018321\n",
              "3            1.40 61.80000  4.200000       1.400000            8.696132\n",
              "4            2.00 20.07143  3.571429       1.357143            5.901089\n",
              "5            2.00 42.33333  4.000000       1.555556            8.804791\n",
              "\n",
              "Clustering vector:\n",
              " [1] 3 4 2 2 5 4 3 2 1 1 2 2 3 3 4 1 1 3 1 4 5 2 1 5 1 2 1 5 2 5 4 5 4 4 5 1 4 5\n",
              "[39] 4 4 4 1 1 4 4 4 2 5 1 2\n",
              "\n",
              "Within cluster sum of squares by cluster:\n",
              "[1] 174.85164 108.49735  58.21123 316.73367 171.67372\n",
              " (between_SS / total_SS =  92.4 %)\n",
              "\n",
              "Available components:\n",
              "\n",
              "[1] \"cluster\"      \"centers\"      \"totss\"        \"withinss\"     \"tot.withinss\"\n",
              "[6] \"betweenss\"    \"size\"         \"iter\"         \"ifault\"      \n",
              "\n",
              "$Segmen.Pelanggan\n",
              "  cluster             Nama.Segmen\n",
              "1       1       Silver Youth Gals\n",
              "2       2   Diamond Senior Member\n",
              "3       3 Gold Young Professional\n",
              "4       4    Diamond Professional\n",
              "5       5 Silver Mid Professional\n",
              "\n",
              "$field_yang_digunakan\n",
              "[1] \"Jenis.Kelamin.1\"     \"Umur\"                \"Profesi.1\"          \n",
              "[4] \"Tipe.Residen.1\"      \"NilaiBelanjaSetahun\"\n"
            ]
          },
          "metadata": {}
        }
      ]
    },
    {
      "cell_type": "code",
      "source": [
        "#Case ketika ada data baru diinputkan\n",
        "databaru <- data.frame(Customer_ID=\"CUST-100\", Nama.Pelanggan=\"Rudi Wilamar\",Umur=20,Jenis.Kelamin=\"Wanita\",Profesi=\"Pelajar\",Tipe.Residen=\"Cluster\",NilaiBelanjaSetahun=3.5)\n",
        "databaru"
      ],
      "metadata": {
        "colab": {
          "base_uri": "https://localhost:8080/",
          "height": 149
        },
        "id": "uUWTSEKXtgyp",
        "outputId": "263685f1-b126-47d2-dde6-90254114cb57"
      },
      "execution_count": 41,
      "outputs": [
        {
          "output_type": "display_data",
          "data": {
            "text/html": [
              "<table class=\"dataframe\">\n",
              "<caption>A data.frame: 1 × 7</caption>\n",
              "<thead>\n",
              "\t<tr><th scope=col>Customer_ID</th><th scope=col>Nama.Pelanggan</th><th scope=col>Umur</th><th scope=col>Jenis.Kelamin</th><th scope=col>Profesi</th><th scope=col>Tipe.Residen</th><th scope=col>NilaiBelanjaSetahun</th></tr>\n",
              "\t<tr><th scope=col>&lt;chr&gt;</th><th scope=col>&lt;chr&gt;</th><th scope=col>&lt;dbl&gt;</th><th scope=col>&lt;chr&gt;</th><th scope=col>&lt;chr&gt;</th><th scope=col>&lt;chr&gt;</th><th scope=col>&lt;dbl&gt;</th></tr>\n",
              "</thead>\n",
              "<tbody>\n",
              "\t<tr><td>CUST-100</td><td>Rudi Wilamar</td><td>20</td><td>Wanita</td><td>Pelajar</td><td>Cluster</td><td>3.5</td></tr>\n",
              "</tbody>\n",
              "</table>\n"
            ],
            "text/markdown": "\nA data.frame: 1 × 7\n\n| Customer_ID &lt;chr&gt; | Nama.Pelanggan &lt;chr&gt; | Umur &lt;dbl&gt; | Jenis.Kelamin &lt;chr&gt; | Profesi &lt;chr&gt; | Tipe.Residen &lt;chr&gt; | NilaiBelanjaSetahun &lt;dbl&gt; |\n|---|---|---|---|---|---|---|\n| CUST-100 | Rudi Wilamar | 20 | Wanita | Pelajar | Cluster | 3.5 |\n\n",
            "text/latex": "A data.frame: 1 × 7\n\\begin{tabular}{lllllll}\n Customer\\_ID & Nama.Pelanggan & Umur & Jenis.Kelamin & Profesi & Tipe.Residen & NilaiBelanjaSetahun\\\\\n <chr> & <chr> & <dbl> & <chr> & <chr> & <chr> & <dbl>\\\\\n\\hline\n\t CUST-100 & Rudi Wilamar & 20 & Wanita & Pelajar & Cluster & 3.5\\\\\n\\end{tabular}\n",
            "text/plain": [
              "  Customer_ID Nama.Pelanggan Umur Jenis.Kelamin Profesi Tipe.Residen\n",
              "1 CUST-100    Rudi Wilamar   20   Wanita        Pelajar Cluster     \n",
              "  NilaiBelanjaSetahun\n",
              "1 3.5                "
            ]
          },
          "metadata": {}
        }
      ]
    },
    {
      "cell_type": "code",
      "source": [
        "#Merge dengan data referensi\n",
        "databaru <- merge(databaru, Identitas.Cluster$Profesi)\n",
        "databaru <- merge(databaru, Identitas.Cluster$Jenis.Kelamin)\n",
        "databaru <- merge(databaru, Identitas.Cluster$Tipe.Residen)\n",
        "databaru"
      ],
      "metadata": {
        "colab": {
          "base_uri": "https://localhost:8080/",
          "height": 149
        },
        "id": "c08g8wg0uODy",
        "outputId": "770d2bb1-e501-46d0-b42b-7cbd5e1aa703"
      },
      "execution_count": 42,
      "outputs": [
        {
          "output_type": "display_data",
          "data": {
            "text/html": [
              "<table class=\"dataframe\">\n",
              "<caption>A data.frame: 1 × 10</caption>\n",
              "<thead>\n",
              "\t<tr><th scope=col>Tipe.Residen</th><th scope=col>Jenis.Kelamin</th><th scope=col>Profesi</th><th scope=col>Customer_ID</th><th scope=col>Nama.Pelanggan</th><th scope=col>Umur</th><th scope=col>NilaiBelanjaSetahun</th><th scope=col>Profesi.1</th><th scope=col>Jenis.Kelamin.1</th><th scope=col>Tipe.Residen.1</th></tr>\n",
              "\t<tr><th scope=col>&lt;chr&gt;</th><th scope=col>&lt;chr&gt;</th><th scope=col>&lt;chr&gt;</th><th scope=col>&lt;chr&gt;</th><th scope=col>&lt;chr&gt;</th><th scope=col>&lt;dbl&gt;</th><th scope=col>&lt;dbl&gt;</th><th scope=col>&lt;int&gt;</th><th scope=col>&lt;int&gt;</th><th scope=col>&lt;int&gt;</th></tr>\n",
              "</thead>\n",
              "<tbody>\n",
              "\t<tr><td>Cluster</td><td>Wanita</td><td>Pelajar</td><td>CUST-100</td><td>Rudi Wilamar</td><td>20</td><td>3.5</td><td>3</td><td>2</td><td>1</td></tr>\n",
              "</tbody>\n",
              "</table>\n"
            ],
            "text/markdown": "\nA data.frame: 1 × 10\n\n| Tipe.Residen &lt;chr&gt; | Jenis.Kelamin &lt;chr&gt; | Profesi &lt;chr&gt; | Customer_ID &lt;chr&gt; | Nama.Pelanggan &lt;chr&gt; | Umur &lt;dbl&gt; | NilaiBelanjaSetahun &lt;dbl&gt; | Profesi.1 &lt;int&gt; | Jenis.Kelamin.1 &lt;int&gt; | Tipe.Residen.1 &lt;int&gt; |\n|---|---|---|---|---|---|---|---|---|---|\n| Cluster | Wanita | Pelajar | CUST-100 | Rudi Wilamar | 20 | 3.5 | 3 | 2 | 1 |\n\n",
            "text/latex": "A data.frame: 1 × 10\n\\begin{tabular}{llllllllll}\n Tipe.Residen & Jenis.Kelamin & Profesi & Customer\\_ID & Nama.Pelanggan & Umur & NilaiBelanjaSetahun & Profesi.1 & Jenis.Kelamin.1 & Tipe.Residen.1\\\\\n <chr> & <chr> & <chr> & <chr> & <chr> & <dbl> & <dbl> & <int> & <int> & <int>\\\\\n\\hline\n\t Cluster & Wanita & Pelajar & CUST-100 & Rudi Wilamar & 20 & 3.5 & 3 & 2 & 1\\\\\n\\end{tabular}\n",
            "text/plain": [
              "  Tipe.Residen Jenis.Kelamin Profesi Customer_ID Nama.Pelanggan Umur\n",
              "1 Cluster      Wanita        Pelajar CUST-100    Rudi Wilamar   20  \n",
              "  NilaiBelanjaSetahun Profesi.1 Jenis.Kelamin.1 Tipe.Residen.1\n",
              "1 3.5                 3         2               1             "
            ]
          },
          "metadata": {}
        }
      ]
    },
    {
      "cell_type": "code",
      "source": [
        "#Menentukan cluster\n",
        "#Dilakukan dengan cara sebagai berikut :\n",
        "#Mencari jarak kuadrat minimum atau terdekat dari kolom numerik data tersebut ke centroid kolom terkait dari seluruh cluster yang ada'''\n",
        "Identitas.Cluster$Segmen.Pelanggan[which.min(sapply( 1:5, function( x ) sum( ( databaru[Identitas.Cluster$field_yang_digunakan] - Identitas.Cluster$Segmentasi$centers[x,])^2 ) )),]"
      ],
      "metadata": {
        "colab": {
          "base_uri": "https://localhost:8080/",
          "height": 129
        },
        "id": "LKPBetsuugve",
        "outputId": "187f53ca-945b-45cd-f076-a1dd5b99b48f"
      },
      "execution_count": 45,
      "outputs": [
        {
          "output_type": "display_data",
          "data": {
            "text/html": [
              "<table class=\"dataframe\">\n",
              "<caption>A data.frame: 1 × 2</caption>\n",
              "<thead>\n",
              "\t<tr><th></th><th scope=col>cluster</th><th scope=col>Nama.Segmen</th></tr>\n",
              "\t<tr><th></th><th scope=col>&lt;dbl&gt;</th><th scope=col>&lt;chr&gt;</th></tr>\n",
              "</thead>\n",
              "<tbody>\n",
              "\t<tr><th scope=row>4</th><td>4</td><td>Diamond Professional</td></tr>\n",
              "</tbody>\n",
              "</table>\n"
            ],
            "text/markdown": "\nA data.frame: 1 × 2\n\n| <!--/--> | cluster &lt;dbl&gt; | Nama.Segmen &lt;chr&gt; |\n|---|---|---|\n| 4 | 4 | Diamond Professional |\n\n",
            "text/latex": "A data.frame: 1 × 2\n\\begin{tabular}{r|ll}\n  & cluster & Nama.Segmen\\\\\n  & <dbl> & <chr>\\\\\n\\hline\n\t4 & 4 & Diamond Professional\\\\\n\\end{tabular}\n",
            "text/plain": [
              "  cluster Nama.Segmen         \n",
              "4 4       Diamond Professional"
            ]
          },
          "metadata": {}
        }
      ]
    }
  ]
}